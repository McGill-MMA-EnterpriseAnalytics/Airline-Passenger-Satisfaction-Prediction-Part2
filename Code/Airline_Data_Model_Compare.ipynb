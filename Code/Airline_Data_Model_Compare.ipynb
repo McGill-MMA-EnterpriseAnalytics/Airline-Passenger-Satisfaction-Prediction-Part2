{
 "cells": [
  {
   "cell_type": "markdown",
   "id": "f9ca636f",
   "metadata": {},
   "source": [
    "### Model using New Data"
   ]
  },
  {
   "cell_type": "code",
   "execution_count": 30,
   "id": "a5e7616e",
   "metadata": {},
   "outputs": [],
   "source": [
    "import numpy as np\n",
    "import pandas as pd\n",
    "from IPython.display import Markdown, display\n",
    "\n",
    "%matplotlib inline\n",
    "import matplotlib.pyplot as plt\n",
    "import seaborn as sns\n",
    "from seaborn import diverging_palette\n",
    "\n",
    "import sklearn\n",
    "from sklearn.exceptions import ConvergenceWarning\n",
    "from sklearn.preprocessing import StandardScaler\n",
    "from sklearn.neural_network import MLPClassifier\n",
    "from sklearn.semi_supervised import LabelPropagation, LabelSpreading\n",
    "\n",
    "from sklearn.linear_model import (\n",
    "    LogisticRegression,\n",
    "    Lasso\n",
    ")\n",
    "\n",
    "from sklearn.ensemble import (\n",
    "    RandomForestClassifier,\n",
    "    AdaBoostClassifier\n",
    ")\n",
    "\n",
    "from sklearn.model_selection import (\n",
    "    train_test_split,\n",
    "    cross_val_score,\n",
    "    cross_val_predict,\n",
    "    RepeatedStratifiedKFold,\n",
    "    GridSearchCV,\n",
    "    KFold\n",
    ")\n",
    "\n",
    "from sklearn.metrics import (\n",
    "    accuracy_score, \n",
    "    precision_score, average_precision_score,\n",
    "    precision_recall_curve,\n",
    "    confusion_matrix, plot_confusion_matrix,\n",
    "    roc_curve, roc_auc_score,\n",
    "    classification_report\n",
    ")\n",
    "\n",
    "import lightgbm as lgb\n",
    "from lightgbm import LGBMClassifier, plot_importance\n",
    "\n",
    "from yellowbrick.classifier import (\n",
    "    ConfusionMatrix,\n",
    "    ROCAUC\n",
    ")\n",
    "\n",
    "import warnings\n",
    "from warnings import simplefilter\n",
    "warnings.filterwarnings(\"ignore\")\n",
    "simplefilter(\"ignore\", category=ConvergenceWarning)\n",
    "\n",
    "pd.set_option('display.max_columns', None) # Show all the columns"
   ]
  },
  {
   "cell_type": "code",
   "execution_count": 31,
   "id": "fcf26c0f",
   "metadata": {},
   "outputs": [
    {
     "data": {
      "text/html": [
       "<div>\n",
       "<style scoped>\n",
       "    .dataframe tbody tr th:only-of-type {\n",
       "        vertical-align: middle;\n",
       "    }\n",
       "\n",
       "    .dataframe tbody tr th {\n",
       "        vertical-align: top;\n",
       "    }\n",
       "\n",
       "    .dataframe thead th {\n",
       "        text-align: right;\n",
       "    }\n",
       "</style>\n",
       "<table border=\"1\" class=\"dataframe\">\n",
       "  <thead>\n",
       "    <tr style=\"text-align: right;\">\n",
       "      <th></th>\n",
       "      <th>id</th>\n",
       "      <th>Age</th>\n",
       "      <th>Class</th>\n",
       "      <th>Flight_Distance</th>\n",
       "      <th>Inflight_wifi_service</th>\n",
       "      <th>Departure/Arrival_time_convenient</th>\n",
       "      <th>Ease_of_Online_booking</th>\n",
       "      <th>Gate_location</th>\n",
       "      <th>Food_and_drink</th>\n",
       "      <th>Online_boarding</th>\n",
       "      <th>Seat_comfort</th>\n",
       "      <th>Inflight_entertainment</th>\n",
       "      <th>On-board_service</th>\n",
       "      <th>Leg_room_service</th>\n",
       "      <th>Baggage_handling</th>\n",
       "      <th>Checkin_service</th>\n",
       "      <th>Inflight_service</th>\n",
       "      <th>Cleanliness</th>\n",
       "      <th>Departure_Delay_in_Minutes</th>\n",
       "      <th>satisfaction</th>\n",
       "      <th>Gender_Male</th>\n",
       "      <th>Customer_Type_Loyal Customer</th>\n",
       "      <th>Type_of_Travel_Business travel</th>\n",
       "    </tr>\n",
       "  </thead>\n",
       "  <tbody>\n",
       "    <tr>\n",
       "      <th>0</th>\n",
       "      <td>110028.0</td>\n",
       "      <td>26.0</td>\n",
       "      <td>0.0</td>\n",
       "      <td>1142.0</td>\n",
       "      <td>2.0</td>\n",
       "      <td>2.0</td>\n",
       "      <td>2.0</td>\n",
       "      <td>2.0</td>\n",
       "      <td>5.0</td>\n",
       "      <td>5.0</td>\n",
       "      <td>5.0</td>\n",
       "      <td>5.0</td>\n",
       "      <td>4.0</td>\n",
       "      <td>3.0</td>\n",
       "      <td>4.0</td>\n",
       "      <td>4.0</td>\n",
       "      <td>4.0</td>\n",
       "      <td>5.0</td>\n",
       "      <td>0.0</td>\n",
       "      <td>1.0</td>\n",
       "      <td>0.0</td>\n",
       "      <td>1.0</td>\n",
       "      <td>1.0</td>\n",
       "    </tr>\n",
       "    <tr>\n",
       "      <th>1</th>\n",
       "      <td>119299.0</td>\n",
       "      <td>61.0</td>\n",
       "      <td>0.0</td>\n",
       "      <td>214.0</td>\n",
       "      <td>3.0</td>\n",
       "      <td>3.0</td>\n",
       "      <td>3.0</td>\n",
       "      <td>3.0</td>\n",
       "      <td>4.0</td>\n",
       "      <td>5.0</td>\n",
       "      <td>5.0</td>\n",
       "      <td>3.0</td>\n",
       "      <td>3.0</td>\n",
       "      <td>4.0</td>\n",
       "      <td>4.0</td>\n",
       "      <td>3.0</td>\n",
       "      <td>3.0</td>\n",
       "      <td>3.0</td>\n",
       "      <td>0.0</td>\n",
       "      <td>1.0</td>\n",
       "      <td>1.0</td>\n",
       "      <td>1.0</td>\n",
       "      <td>1.0</td>\n",
       "    </tr>\n",
       "    <tr>\n",
       "      <th>2</th>\n",
       "      <td>82113.0</td>\n",
       "      <td>47.0</td>\n",
       "      <td>2.0</td>\n",
       "      <td>1276.0</td>\n",
       "      <td>2.0</td>\n",
       "      <td>4.0</td>\n",
       "      <td>2.0</td>\n",
       "      <td>3.0</td>\n",
       "      <td>2.0</td>\n",
       "      <td>2.0</td>\n",
       "      <td>2.0</td>\n",
       "      <td>2.0</td>\n",
       "      <td>3.0</td>\n",
       "      <td>3.0</td>\n",
       "      <td>4.0</td>\n",
       "      <td>3.0</td>\n",
       "      <td>5.0</td>\n",
       "      <td>2.0</td>\n",
       "      <td>9.0</td>\n",
       "      <td>0.0</td>\n",
       "      <td>1.0</td>\n",
       "      <td>1.0</td>\n",
       "      <td>0.0</td>\n",
       "    </tr>\n",
       "    <tr>\n",
       "      <th>3</th>\n",
       "      <td>96462.0</td>\n",
       "      <td>52.0</td>\n",
       "      <td>0.0</td>\n",
       "      <td>2035.0</td>\n",
       "      <td>4.0</td>\n",
       "      <td>3.0</td>\n",
       "      <td>4.0</td>\n",
       "      <td>4.0</td>\n",
       "      <td>5.0</td>\n",
       "      <td>5.0</td>\n",
       "      <td>5.0</td>\n",
       "      <td>5.0</td>\n",
       "      <td>5.0</td>\n",
       "      <td>5.0</td>\n",
       "      <td>5.0</td>\n",
       "      <td>4.0</td>\n",
       "      <td>5.0</td>\n",
       "      <td>4.0</td>\n",
       "      <td>4.0</td>\n",
       "      <td>1.0</td>\n",
       "      <td>0.0</td>\n",
       "      <td>1.0</td>\n",
       "      <td>1.0</td>\n",
       "    </tr>\n",
       "    <tr>\n",
       "      <th>4</th>\n",
       "      <td>65725.0</td>\n",
       "      <td>20.0</td>\n",
       "      <td>2.0</td>\n",
       "      <td>1061.0</td>\n",
       "      <td>3.0</td>\n",
       "      <td>3.0</td>\n",
       "      <td>3.0</td>\n",
       "      <td>4.0</td>\n",
       "      <td>2.0</td>\n",
       "      <td>3.0</td>\n",
       "      <td>3.0</td>\n",
       "      <td>2.0</td>\n",
       "      <td>2.0</td>\n",
       "      <td>3.0</td>\n",
       "      <td>4.0</td>\n",
       "      <td>4.0</td>\n",
       "      <td>3.0</td>\n",
       "      <td>2.0</td>\n",
       "      <td>0.0</td>\n",
       "      <td>0.0</td>\n",
       "      <td>1.0</td>\n",
       "      <td>0.0</td>\n",
       "      <td>1.0</td>\n",
       "    </tr>\n",
       "    <tr>\n",
       "      <th>...</th>\n",
       "      <td>...</td>\n",
       "      <td>...</td>\n",
       "      <td>...</td>\n",
       "      <td>...</td>\n",
       "      <td>...</td>\n",
       "      <td>...</td>\n",
       "      <td>...</td>\n",
       "      <td>...</td>\n",
       "      <td>...</td>\n",
       "      <td>...</td>\n",
       "      <td>...</td>\n",
       "      <td>...</td>\n",
       "      <td>...</td>\n",
       "      <td>...</td>\n",
       "      <td>...</td>\n",
       "      <td>...</td>\n",
       "      <td>...</td>\n",
       "      <td>...</td>\n",
       "      <td>...</td>\n",
       "      <td>...</td>\n",
       "      <td>...</td>\n",
       "      <td>...</td>\n",
       "      <td>...</td>\n",
       "    </tr>\n",
       "    <tr>\n",
       "      <th>42897</th>\n",
       "      <td>86549.0</td>\n",
       "      <td>26.0</td>\n",
       "      <td>0.0</td>\n",
       "      <td>712.0</td>\n",
       "      <td>4.0</td>\n",
       "      <td>4.0</td>\n",
       "      <td>4.0</td>\n",
       "      <td>4.0</td>\n",
       "      <td>5.0</td>\n",
       "      <td>5.0</td>\n",
       "      <td>5.0</td>\n",
       "      <td>5.0</td>\n",
       "      <td>3.0</td>\n",
       "      <td>4.0</td>\n",
       "      <td>4.0</td>\n",
       "      <td>3.0</td>\n",
       "      <td>4.0</td>\n",
       "      <td>5.0</td>\n",
       "      <td>17.0</td>\n",
       "      <td>1.0</td>\n",
       "      <td>1.0</td>\n",
       "      <td>1.0</td>\n",
       "      <td>1.0</td>\n",
       "    </tr>\n",
       "    <tr>\n",
       "      <th>42898</th>\n",
       "      <td>102203.0</td>\n",
       "      <td>60.0</td>\n",
       "      <td>0.0</td>\n",
       "      <td>1599.0</td>\n",
       "      <td>5.0</td>\n",
       "      <td>5.0</td>\n",
       "      <td>5.0</td>\n",
       "      <td>5.0</td>\n",
       "      <td>5.0</td>\n",
       "      <td>5.0</td>\n",
       "      <td>4.0</td>\n",
       "      <td>4.0</td>\n",
       "      <td>4.0</td>\n",
       "      <td>4.0</td>\n",
       "      <td>4.0</td>\n",
       "      <td>4.0</td>\n",
       "      <td>4.0</td>\n",
       "      <td>4.0</td>\n",
       "      <td>9.0</td>\n",
       "      <td>1.0</td>\n",
       "      <td>0.0</td>\n",
       "      <td>1.0</td>\n",
       "      <td>1.0</td>\n",
       "    </tr>\n",
       "    <tr>\n",
       "      <th>42899</th>\n",
       "      <td>60666.0</td>\n",
       "      <td>50.0</td>\n",
       "      <td>2.0</td>\n",
       "      <td>1620.0</td>\n",
       "      <td>3.0</td>\n",
       "      <td>1.0</td>\n",
       "      <td>3.0</td>\n",
       "      <td>4.0</td>\n",
       "      <td>2.0</td>\n",
       "      <td>3.0</td>\n",
       "      <td>2.0</td>\n",
       "      <td>2.0</td>\n",
       "      <td>4.0</td>\n",
       "      <td>3.0</td>\n",
       "      <td>4.0</td>\n",
       "      <td>2.0</td>\n",
       "      <td>4.0</td>\n",
       "      <td>2.0</td>\n",
       "      <td>0.0</td>\n",
       "      <td>0.0</td>\n",
       "      <td>1.0</td>\n",
       "      <td>1.0</td>\n",
       "      <td>0.0</td>\n",
       "    </tr>\n",
       "    <tr>\n",
       "      <th>42900</th>\n",
       "      <td>94171.0</td>\n",
       "      <td>23.0</td>\n",
       "      <td>2.0</td>\n",
       "      <td>192.0</td>\n",
       "      <td>2.0</td>\n",
       "      <td>1.0</td>\n",
       "      <td>2.0</td>\n",
       "      <td>3.0</td>\n",
       "      <td>2.0</td>\n",
       "      <td>2.0</td>\n",
       "      <td>2.0</td>\n",
       "      <td>2.0</td>\n",
       "      <td>3.0</td>\n",
       "      <td>1.0</td>\n",
       "      <td>4.0</td>\n",
       "      <td>2.0</td>\n",
       "      <td>3.0</td>\n",
       "      <td>2.0</td>\n",
       "      <td>3.0</td>\n",
       "      <td>0.0</td>\n",
       "      <td>0.0</td>\n",
       "      <td>0.0</td>\n",
       "      <td>1.0</td>\n",
       "    </tr>\n",
       "    <tr>\n",
       "      <th>42901</th>\n",
       "      <td>73097.0</td>\n",
       "      <td>49.0</td>\n",
       "      <td>0.0</td>\n",
       "      <td>2347.0</td>\n",
       "      <td>4.0</td>\n",
       "      <td>4.0</td>\n",
       "      <td>4.0</td>\n",
       "      <td>4.0</td>\n",
       "      <td>2.0</td>\n",
       "      <td>4.0</td>\n",
       "      <td>5.0</td>\n",
       "      <td>5.0</td>\n",
       "      <td>5.0</td>\n",
       "      <td>5.0</td>\n",
       "      <td>5.0</td>\n",
       "      <td>5.0</td>\n",
       "      <td>5.0</td>\n",
       "      <td>4.0</td>\n",
       "      <td>0.0</td>\n",
       "      <td>1.0</td>\n",
       "      <td>1.0</td>\n",
       "      <td>1.0</td>\n",
       "      <td>1.0</td>\n",
       "    </tr>\n",
       "  </tbody>\n",
       "</table>\n",
       "<p>42902 rows × 23 columns</p>\n",
       "</div>"
      ],
      "text/plain": [
       "             id   Age  Class  Flight_Distance  Inflight_wifi_service  \\\n",
       "0      110028.0  26.0    0.0           1142.0                    2.0   \n",
       "1      119299.0  61.0    0.0            214.0                    3.0   \n",
       "2       82113.0  47.0    2.0           1276.0                    2.0   \n",
       "3       96462.0  52.0    0.0           2035.0                    4.0   \n",
       "4       65725.0  20.0    2.0           1061.0                    3.0   \n",
       "...         ...   ...    ...              ...                    ...   \n",
       "42897   86549.0  26.0    0.0            712.0                    4.0   \n",
       "42898  102203.0  60.0    0.0           1599.0                    5.0   \n",
       "42899   60666.0  50.0    2.0           1620.0                    3.0   \n",
       "42900   94171.0  23.0    2.0            192.0                    2.0   \n",
       "42901   73097.0  49.0    0.0           2347.0                    4.0   \n",
       "\n",
       "       Departure/Arrival_time_convenient  Ease_of_Online_booking  \\\n",
       "0                                    2.0                     2.0   \n",
       "1                                    3.0                     3.0   \n",
       "2                                    4.0                     2.0   \n",
       "3                                    3.0                     4.0   \n",
       "4                                    3.0                     3.0   \n",
       "...                                  ...                     ...   \n",
       "42897                                4.0                     4.0   \n",
       "42898                                5.0                     5.0   \n",
       "42899                                1.0                     3.0   \n",
       "42900                                1.0                     2.0   \n",
       "42901                                4.0                     4.0   \n",
       "\n",
       "       Gate_location  Food_and_drink  Online_boarding  Seat_comfort  \\\n",
       "0                2.0             5.0              5.0           5.0   \n",
       "1                3.0             4.0              5.0           5.0   \n",
       "2                3.0             2.0              2.0           2.0   \n",
       "3                4.0             5.0              5.0           5.0   \n",
       "4                4.0             2.0              3.0           3.0   \n",
       "...              ...             ...              ...           ...   \n",
       "42897            4.0             5.0              5.0           5.0   \n",
       "42898            5.0             5.0              5.0           4.0   \n",
       "42899            4.0             2.0              3.0           2.0   \n",
       "42900            3.0             2.0              2.0           2.0   \n",
       "42901            4.0             2.0              4.0           5.0   \n",
       "\n",
       "       Inflight_entertainment  On-board_service  Leg_room_service  \\\n",
       "0                         5.0               4.0               3.0   \n",
       "1                         3.0               3.0               4.0   \n",
       "2                         2.0               3.0               3.0   \n",
       "3                         5.0               5.0               5.0   \n",
       "4                         2.0               2.0               3.0   \n",
       "...                       ...               ...               ...   \n",
       "42897                     5.0               3.0               4.0   \n",
       "42898                     4.0               4.0               4.0   \n",
       "42899                     2.0               4.0               3.0   \n",
       "42900                     2.0               3.0               1.0   \n",
       "42901                     5.0               5.0               5.0   \n",
       "\n",
       "       Baggage_handling  Checkin_service  Inflight_service  Cleanliness  \\\n",
       "0                   4.0              4.0               4.0          5.0   \n",
       "1                   4.0              3.0               3.0          3.0   \n",
       "2                   4.0              3.0               5.0          2.0   \n",
       "3                   5.0              4.0               5.0          4.0   \n",
       "4                   4.0              4.0               3.0          2.0   \n",
       "...                 ...              ...               ...          ...   \n",
       "42897               4.0              3.0               4.0          5.0   \n",
       "42898               4.0              4.0               4.0          4.0   \n",
       "42899               4.0              2.0               4.0          2.0   \n",
       "42900               4.0              2.0               3.0          2.0   \n",
       "42901               5.0              5.0               5.0          4.0   \n",
       "\n",
       "       Departure_Delay_in_Minutes  satisfaction  Gender_Male  \\\n",
       "0                             0.0           1.0          0.0   \n",
       "1                             0.0           1.0          1.0   \n",
       "2                             9.0           0.0          1.0   \n",
       "3                             4.0           1.0          0.0   \n",
       "4                             0.0           0.0          1.0   \n",
       "...                           ...           ...          ...   \n",
       "42897                        17.0           1.0          1.0   \n",
       "42898                         9.0           1.0          0.0   \n",
       "42899                         0.0           0.0          1.0   \n",
       "42900                         3.0           0.0          0.0   \n",
       "42901                         0.0           1.0          1.0   \n",
       "\n",
       "       Customer_Type_Loyal Customer  Type_of_Travel_Business travel  \n",
       "0                               1.0                             1.0  \n",
       "1                               1.0                             1.0  \n",
       "2                               1.0                             0.0  \n",
       "3                               1.0                             1.0  \n",
       "4                               0.0                             1.0  \n",
       "...                             ...                             ...  \n",
       "42897                           1.0                             1.0  \n",
       "42898                           1.0                             1.0  \n",
       "42899                           1.0                             0.0  \n",
       "42900                           0.0                             1.0  \n",
       "42901                           1.0                             1.0  \n",
       "\n",
       "[42902 rows x 23 columns]"
      ]
     },
     "execution_count": 31,
     "metadata": {},
     "output_type": "execute_result"
    }
   ],
   "source": [
    "url = 'https://raw.githubusercontent.com/McGill-MMA-EnterpriseAnalytics/Airline-Passenger-Satisfaction-Prediction-Part2/Dev/Data/df6.csv'\n",
    "data = pd.read_csv(url)\n",
    "data"
   ]
  },
  {
   "cell_type": "markdown",
   "id": "e981e099",
   "metadata": {},
   "source": [
    "# Data Preparation"
   ]
  },
  {
   "cell_type": "markdown",
   "id": "7bf7c643",
   "metadata": {},
   "source": [
    "## Standardization of Numeric Variables"
   ]
  },
  {
   "cell_type": "code",
   "execution_count": 32,
   "id": "debac507",
   "metadata": {},
   "outputs": [],
   "source": [
    "numeric_cols = ['Age', 'Flight_Distance','Departure_Delay_in_Minutes']\n",
    "scaler = StandardScaler()\n",
    "data[numeric_cols] = scaler.fit_transform(data[numeric_cols])"
   ]
  },
  {
   "cell_type": "markdown",
   "id": "b4614b8f",
   "metadata": {},
   "source": [
    "## Handling Missing Values\n",
    "\n",
    "The satisfaction level of each feature should range from 1 to 5.\n",
    "\n",
    "If the rating is 0, that means the customer did not rate for this feature."
   ]
  },
  {
   "cell_type": "code",
   "execution_count": 33,
   "id": "05512ab8",
   "metadata": {},
   "outputs": [
    {
     "data": {
      "text/markdown": [
       "**Results:**"
      ],
      "text/plain": [
       "<IPython.core.display.Markdown object>"
      ]
     },
     "metadata": {},
     "output_type": "display_data"
    },
    {
     "name": "stdout",
     "output_type": "stream",
     "text": [
      "id                        ==> more than 23 values\n",
      "Age                       ==> more than 23 values\n",
      "Class                     ==> [0.0, 1.0, 2.0]\n",
      "Flight_Distance           ==> more than 23 values\n",
      "Inflight_wifi_service     ==> [0.0, 1.0, 2.0, 3.0, 4.0, 5.0]\n",
      "Departure/Arrival_time_convenient ==> [0.0, 1.0, 2.0, 3.0, 4.0, 5.0]\n",
      "Ease_of_Online_booking    ==> [0.0, 1.0, 2.0, 3.0, 4.0, 5.0]\n",
      "Gate_location             ==> [1.0, 2.0, 3.0, 4.0, 5.0]\n",
      "Food_and_drink            ==> [1.0, 2.0, 3.0, 4.0, 5.0]\n",
      "Online_boarding           ==> [0.0, 1.0, 2.0, 3.0, 4.0, 5.0]\n",
      "Seat_comfort              ==> [1.0, 2.0, 3.0, 4.0, 5.0]\n",
      "Inflight_entertainment    ==> [1.0, 2.0, 3.0, 4.0, 5.0]\n",
      "On-board_service          ==> [1.0, 2.0, 3.0, 4.0, 5.0]\n",
      "Leg_room_service          ==> [0.0, 1.0, 2.0, 3.0, 4.0, 5.0]\n",
      "Baggage_handling          ==> [1.0, 2.0, 3.0, 4.0, 5.0]\n",
      "Checkin_service           ==> [1.0, 2.0, 3.0, 4.0, 5.0]\n",
      "Inflight_service          ==> [1.0, 2.0, 3.0, 4.0, 5.0]\n",
      "Cleanliness               ==> [1.0, 2.0, 3.0, 4.0, 5.0]\n",
      "Departure_Delay_in_Minutes ==> more than 23 values\n",
      "satisfaction              ==> [0.0, 1.0]\n",
      "Gender_Male               ==> [0.0, 1.0]\n",
      "Customer_Type_Loyal Customer ==> [0.0, 1.0]\n",
      "Type_of_Travel_Business travel ==> [0.0, 1.0]\n"
     ]
    }
   ],
   "source": [
    "def list_column_values(df, number_of_values, print_all):\n",
    "    display(Markdown('**Results:**' ))\n",
    "    for col in df.columns[0:]:\n",
    "        if df[col].nunique() <= number_of_values:\n",
    "            print(f\"{col.ljust(25)}\" +  ' ==> ' + str(df[col].sort_values().unique().tolist()) )\n",
    "        else:  \n",
    "            if print_all=='True':\n",
    "               \n",
    "                print(f\"{col.ljust(25)}\" + ' ==> more than ' + str(number_of_values) + ' values')\n",
    "\n",
    "list_column_values(data, data.shape[1],'True')"
   ]
  },
  {
   "cell_type": "code",
   "execution_count": 34,
   "id": "477c3241",
   "metadata": {},
   "outputs": [
    {
     "data": {
      "text/plain": [
       "Inflight_wifi_service                162\n",
       "Departure/Arrival_time_convenient    276\n",
       "Ease_of_Online_booking               145\n",
       "Online_boarding                        9\n",
       "Leg_room_service                       3\n",
       "dtype: int64"
      ]
     },
     "execution_count": 34,
     "metadata": {},
     "output_type": "execute_result"
    }
   ],
   "source": [
    "incomplete = ['Inflight_wifi_service','Departure/Arrival_time_convenient',\n",
    "              'Ease_of_Online_booking','Online_boarding','Leg_room_service']\n",
    "(data[incomplete] == 0).sum()"
   ]
  },
  {
   "cell_type": "markdown",
   "id": "61ce6f14",
   "metadata": {},
   "source": [
    "#### We should consider rating=0 as missing values as the customer did not provide any rating feedback."
   ]
  },
  {
   "cell_type": "code",
   "execution_count": 35,
   "id": "87ea0fd7",
   "metadata": {},
   "outputs": [
    {
     "data": {
      "text/plain": [
       "0.013868817304554566"
      ]
     },
     "execution_count": 35,
     "metadata": {},
     "output_type": "execute_result"
    }
   ],
   "source": [
    "(data[incomplete] == 0).sum().sum()/data.shape[0]"
   ]
  },
  {
   "cell_type": "markdown",
   "id": "fddd4890",
   "metadata": {},
   "source": [
    "#### Missing ratings only takes up 1.3% of the dataset, try advanced imputation techniques here\n",
    "\n",
    "## KNN Imputation"
   ]
  },
  {
   "cell_type": "code",
   "execution_count": 36,
   "id": "5eed5cd9",
   "metadata": {},
   "outputs": [],
   "source": [
    "#replace the 0 value as nan\n",
    "data[incomplete] = data[incomplete].replace(0, np.nan)"
   ]
  },
  {
   "cell_type": "code",
   "execution_count": 37,
   "id": "71b5c225",
   "metadata": {},
   "outputs": [
    {
     "data": {
      "text/plain": [
       "Inflight_wifi_service                162\n",
       "Departure/Arrival_time_convenient    276\n",
       "Ease_of_Online_booking               145\n",
       "Online_boarding                        9\n",
       "Leg_room_service                       3\n",
       "dtype: int64"
      ]
     },
     "execution_count": 37,
     "metadata": {},
     "output_type": "execute_result"
    }
   ],
   "source": [
    "data[incomplete].isnull().sum()"
   ]
  },
  {
   "cell_type": "code",
   "execution_count": 38,
   "id": "516cc131",
   "metadata": {},
   "outputs": [
    {
     "data": {
      "text/html": [
       "<div>\n",
       "<style scoped>\n",
       "    .dataframe tbody tr th:only-of-type {\n",
       "        vertical-align: middle;\n",
       "    }\n",
       "\n",
       "    .dataframe tbody tr th {\n",
       "        vertical-align: top;\n",
       "    }\n",
       "\n",
       "    .dataframe thead th {\n",
       "        text-align: right;\n",
       "    }\n",
       "</style>\n",
       "<table border=\"1\" class=\"dataframe\">\n",
       "  <thead>\n",
       "    <tr style=\"text-align: right;\">\n",
       "      <th></th>\n",
       "      <th>id</th>\n",
       "      <th>Age</th>\n",
       "      <th>Class</th>\n",
       "      <th>Flight_Distance</th>\n",
       "      <th>Inflight_wifi_service</th>\n",
       "      <th>Departure/Arrival_time_convenient</th>\n",
       "      <th>Ease_of_Online_booking</th>\n",
       "      <th>Gate_location</th>\n",
       "      <th>Food_and_drink</th>\n",
       "      <th>Online_boarding</th>\n",
       "      <th>Seat_comfort</th>\n",
       "      <th>Inflight_entertainment</th>\n",
       "      <th>On-board_service</th>\n",
       "      <th>Leg_room_service</th>\n",
       "      <th>Baggage_handling</th>\n",
       "      <th>Checkin_service</th>\n",
       "      <th>Inflight_service</th>\n",
       "      <th>Cleanliness</th>\n",
       "      <th>Departure_Delay_in_Minutes</th>\n",
       "      <th>satisfaction</th>\n",
       "      <th>Gender_Male</th>\n",
       "      <th>Customer_Type_Loyal Customer</th>\n",
       "      <th>Type_of_Travel_Business travel</th>\n",
       "    </tr>\n",
       "  </thead>\n",
       "  <tbody>\n",
       "    <tr>\n",
       "      <th>14</th>\n",
       "      <td>14849.0</td>\n",
       "      <td>-0.056376</td>\n",
       "      <td>0.0</td>\n",
       "      <td>-1.041118</td>\n",
       "      <td>NaN</td>\n",
       "      <td>NaN</td>\n",
       "      <td>NaN</td>\n",
       "      <td>3.0</td>\n",
       "      <td>2.0</td>\n",
       "      <td>5.0</td>\n",
       "      <td>3.0</td>\n",
       "      <td>4.0</td>\n",
       "      <td>4.0</td>\n",
       "      <td>4.0</td>\n",
       "      <td>4.0</td>\n",
       "      <td>4.0</td>\n",
       "      <td>4.0</td>\n",
       "      <td>3.0</td>\n",
       "      <td>-0.454514</td>\n",
       "      <td>1.0</td>\n",
       "      <td>1.0</td>\n",
       "      <td>1.0</td>\n",
       "      <td>1.0</td>\n",
       "    </tr>\n",
       "    <tr>\n",
       "      <th>66</th>\n",
       "      <td>85554.0</td>\n",
       "      <td>0.545156</td>\n",
       "      <td>0.0</td>\n",
       "      <td>-1.020660</td>\n",
       "      <td>NaN</td>\n",
       "      <td>1.0</td>\n",
       "      <td>1.0</td>\n",
       "      <td>1.0</td>\n",
       "      <td>3.0</td>\n",
       "      <td>4.0</td>\n",
       "      <td>5.0</td>\n",
       "      <td>4.0</td>\n",
       "      <td>4.0</td>\n",
       "      <td>4.0</td>\n",
       "      <td>4.0</td>\n",
       "      <td>4.0</td>\n",
       "      <td>4.0</td>\n",
       "      <td>5.0</td>\n",
       "      <td>-0.454514</td>\n",
       "      <td>1.0</td>\n",
       "      <td>0.0</td>\n",
       "      <td>1.0</td>\n",
       "      <td>1.0</td>\n",
       "    </tr>\n",
       "    <tr>\n",
       "      <th>342</th>\n",
       "      <td>48727.0</td>\n",
       "      <td>0.620348</td>\n",
       "      <td>0.0</td>\n",
       "      <td>2.036342</td>\n",
       "      <td>NaN</td>\n",
       "      <td>5.0</td>\n",
       "      <td>NaN</td>\n",
       "      <td>4.0</td>\n",
       "      <td>2.0</td>\n",
       "      <td>5.0</td>\n",
       "      <td>5.0</td>\n",
       "      <td>4.0</td>\n",
       "      <td>4.0</td>\n",
       "      <td>4.0</td>\n",
       "      <td>4.0</td>\n",
       "      <td>3.0</td>\n",
       "      <td>4.0</td>\n",
       "      <td>3.0</td>\n",
       "      <td>-0.454514</td>\n",
       "      <td>1.0</td>\n",
       "      <td>0.0</td>\n",
       "      <td>1.0</td>\n",
       "      <td>1.0</td>\n",
       "    </tr>\n",
       "  </tbody>\n",
       "</table>\n",
       "</div>"
      ],
      "text/plain": [
       "          id       Age  Class  Flight_Distance  Inflight_wifi_service  \\\n",
       "14   14849.0 -0.056376    0.0        -1.041118                    NaN   \n",
       "66   85554.0  0.545156    0.0        -1.020660                    NaN   \n",
       "342  48727.0  0.620348    0.0         2.036342                    NaN   \n",
       "\n",
       "     Departure/Arrival_time_convenient  Ease_of_Online_booking  Gate_location  \\\n",
       "14                                 NaN                     NaN            3.0   \n",
       "66                                 1.0                     1.0            1.0   \n",
       "342                                5.0                     NaN            4.0   \n",
       "\n",
       "     Food_and_drink  Online_boarding  Seat_comfort  Inflight_entertainment  \\\n",
       "14              2.0              5.0           3.0                     4.0   \n",
       "66              3.0              4.0           5.0                     4.0   \n",
       "342             2.0              5.0           5.0                     4.0   \n",
       "\n",
       "     On-board_service  Leg_room_service  Baggage_handling  Checkin_service  \\\n",
       "14                4.0               4.0               4.0              4.0   \n",
       "66                4.0               4.0               4.0              4.0   \n",
       "342               4.0               4.0               4.0              3.0   \n",
       "\n",
       "     Inflight_service  Cleanliness  Departure_Delay_in_Minutes  satisfaction  \\\n",
       "14                4.0          3.0                   -0.454514           1.0   \n",
       "66                4.0          5.0                   -0.454514           1.0   \n",
       "342               4.0          3.0                   -0.454514           1.0   \n",
       "\n",
       "     Gender_Male  Customer_Type_Loyal Customer  Type_of_Travel_Business travel  \n",
       "14           1.0                           1.0                             1.0  \n",
       "66           0.0                           1.0                             1.0  \n",
       "342          0.0                           1.0                             1.0  "
      ]
     },
     "execution_count": 38,
     "metadata": {},
     "output_type": "execute_result"
    }
   ],
   "source": [
    "null_rows_idx = data.isnull().any(axis=1)\n",
    "\n",
    "data.loc[null_rows_idx].head(3)"
   ]
  },
  {
   "cell_type": "code",
   "execution_count": 39,
   "id": "8f90477a",
   "metadata": {},
   "outputs": [
    {
     "data": {
      "text/html": [
       "<div>\n",
       "<style scoped>\n",
       "    .dataframe tbody tr th:only-of-type {\n",
       "        vertical-align: middle;\n",
       "    }\n",
       "\n",
       "    .dataframe tbody tr th {\n",
       "        vertical-align: top;\n",
       "    }\n",
       "\n",
       "    .dataframe thead th {\n",
       "        text-align: right;\n",
       "    }\n",
       "</style>\n",
       "<table border=\"1\" class=\"dataframe\">\n",
       "  <thead>\n",
       "    <tr style=\"text-align: right;\">\n",
       "      <th></th>\n",
       "      <th>id</th>\n",
       "      <th>Age</th>\n",
       "      <th>Class</th>\n",
       "      <th>Flight_Distance</th>\n",
       "      <th>Inflight_wifi_service</th>\n",
       "      <th>Departure/Arrival_time_convenient</th>\n",
       "      <th>Ease_of_Online_booking</th>\n",
       "      <th>Gate_location</th>\n",
       "      <th>Food_and_drink</th>\n",
       "      <th>Online_boarding</th>\n",
       "      <th>Seat_comfort</th>\n",
       "      <th>Inflight_entertainment</th>\n",
       "      <th>On-board_service</th>\n",
       "      <th>Leg_room_service</th>\n",
       "      <th>Baggage_handling</th>\n",
       "      <th>Checkin_service</th>\n",
       "      <th>Inflight_service</th>\n",
       "      <th>Cleanliness</th>\n",
       "      <th>Departure_Delay_in_Minutes</th>\n",
       "      <th>satisfaction</th>\n",
       "      <th>Gender_Male</th>\n",
       "      <th>Customer_Type_Loyal Customer</th>\n",
       "      <th>Type_of_Travel_Business travel</th>\n",
       "    </tr>\n",
       "  </thead>\n",
       "  <tbody>\n",
       "    <tr>\n",
       "      <th>14</th>\n",
       "      <td>14849.0</td>\n",
       "      <td>-0.056376</td>\n",
       "      <td>0.0</td>\n",
       "      <td>-1.041118</td>\n",
       "      <td>3.6</td>\n",
       "      <td>3.6</td>\n",
       "      <td>2.8</td>\n",
       "      <td>3.0</td>\n",
       "      <td>2.0</td>\n",
       "      <td>5.0</td>\n",
       "      <td>3.0</td>\n",
       "      <td>4.0</td>\n",
       "      <td>4.0</td>\n",
       "      <td>4.0</td>\n",
       "      <td>4.0</td>\n",
       "      <td>4.0</td>\n",
       "      <td>4.0</td>\n",
       "      <td>3.0</td>\n",
       "      <td>-0.454514</td>\n",
       "      <td>1.0</td>\n",
       "      <td>1.0</td>\n",
       "      <td>1.0</td>\n",
       "      <td>1.0</td>\n",
       "    </tr>\n",
       "    <tr>\n",
       "      <th>66</th>\n",
       "      <td>85554.0</td>\n",
       "      <td>0.545156</td>\n",
       "      <td>0.0</td>\n",
       "      <td>-1.020660</td>\n",
       "      <td>3.4</td>\n",
       "      <td>1.0</td>\n",
       "      <td>1.0</td>\n",
       "      <td>1.0</td>\n",
       "      <td>3.0</td>\n",
       "      <td>4.0</td>\n",
       "      <td>5.0</td>\n",
       "      <td>4.0</td>\n",
       "      <td>4.0</td>\n",
       "      <td>4.0</td>\n",
       "      <td>4.0</td>\n",
       "      <td>4.0</td>\n",
       "      <td>4.0</td>\n",
       "      <td>5.0</td>\n",
       "      <td>-0.454514</td>\n",
       "      <td>1.0</td>\n",
       "      <td>0.0</td>\n",
       "      <td>1.0</td>\n",
       "      <td>1.0</td>\n",
       "    </tr>\n",
       "    <tr>\n",
       "      <th>342</th>\n",
       "      <td>48727.0</td>\n",
       "      <td>0.620348</td>\n",
       "      <td>0.0</td>\n",
       "      <td>2.036342</td>\n",
       "      <td>3.0</td>\n",
       "      <td>5.0</td>\n",
       "      <td>3.0</td>\n",
       "      <td>4.0</td>\n",
       "      <td>2.0</td>\n",
       "      <td>5.0</td>\n",
       "      <td>5.0</td>\n",
       "      <td>4.0</td>\n",
       "      <td>4.0</td>\n",
       "      <td>4.0</td>\n",
       "      <td>4.0</td>\n",
       "      <td>3.0</td>\n",
       "      <td>4.0</td>\n",
       "      <td>3.0</td>\n",
       "      <td>-0.454514</td>\n",
       "      <td>1.0</td>\n",
       "      <td>0.0</td>\n",
       "      <td>1.0</td>\n",
       "      <td>1.0</td>\n",
       "    </tr>\n",
       "  </tbody>\n",
       "</table>\n",
       "</div>"
      ],
      "text/plain": [
       "          id       Age  Class  Flight_Distance  Inflight_wifi_service  \\\n",
       "14   14849.0 -0.056376    0.0        -1.041118                    3.6   \n",
       "66   85554.0  0.545156    0.0        -1.020660                    3.4   \n",
       "342  48727.0  0.620348    0.0         2.036342                    3.0   \n",
       "\n",
       "     Departure/Arrival_time_convenient  Ease_of_Online_booking  Gate_location  \\\n",
       "14                                 3.6                     2.8            3.0   \n",
       "66                                 1.0                     1.0            1.0   \n",
       "342                                5.0                     3.0            4.0   \n",
       "\n",
       "     Food_and_drink  Online_boarding  Seat_comfort  Inflight_entertainment  \\\n",
       "14              2.0              5.0           3.0                     4.0   \n",
       "66              3.0              4.0           5.0                     4.0   \n",
       "342             2.0              5.0           5.0                     4.0   \n",
       "\n",
       "     On-board_service  Leg_room_service  Baggage_handling  Checkin_service  \\\n",
       "14                4.0               4.0               4.0              4.0   \n",
       "66                4.0               4.0               4.0              4.0   \n",
       "342               4.0               4.0               4.0              3.0   \n",
       "\n",
       "     Inflight_service  Cleanliness  Departure_Delay_in_Minutes  satisfaction  \\\n",
       "14                4.0          3.0                   -0.454514           1.0   \n",
       "66                4.0          5.0                   -0.454514           1.0   \n",
       "342               4.0          3.0                   -0.454514           1.0   \n",
       "\n",
       "     Gender_Male  Customer_Type_Loyal Customer  Type_of_Travel_Business travel  \n",
       "14           1.0                           1.0                             1.0  \n",
       "66           0.0                           1.0                             1.0  \n",
       "342          0.0                           1.0                             1.0  "
      ]
     },
     "execution_count": 39,
     "metadata": {},
     "output_type": "execute_result"
    }
   ],
   "source": [
    "from sklearn.impute import KNNImputer\n",
    "\n",
    "imputer = KNNImputer(n_neighbors=5)\n",
    "\n",
    "data_num = data.select_dtypes(include=[np.number])\n",
    "imputer.fit(data_num)\n",
    "\n",
    "X_ = imputer.transform(data_num)\n",
    "\n",
    "#save in df4_knn\n",
    "data_knn = pd.DataFrame(X_, columns=data_num.columns, index=data_num.index)\n",
    "\n",
    "data_knn.loc[null_rows_idx].head(3)"
   ]
  },
  {
   "cell_type": "markdown",
   "id": "2851fce9",
   "metadata": {},
   "source": [
    "#### Since the satisfaction level can only be 1,2,3,4, or 5. we need to conver the value to integer"
   ]
  },
  {
   "cell_type": "code",
   "execution_count": 40,
   "id": "100bd347",
   "metadata": {
    "scrolled": true
   },
   "outputs": [
    {
     "data": {
      "text/html": [
       "<div>\n",
       "<style scoped>\n",
       "    .dataframe tbody tr th:only-of-type {\n",
       "        vertical-align: middle;\n",
       "    }\n",
       "\n",
       "    .dataframe tbody tr th {\n",
       "        vertical-align: top;\n",
       "    }\n",
       "\n",
       "    .dataframe thead th {\n",
       "        text-align: right;\n",
       "    }\n",
       "</style>\n",
       "<table border=\"1\" class=\"dataframe\">\n",
       "  <thead>\n",
       "    <tr style=\"text-align: right;\">\n",
       "      <th></th>\n",
       "      <th>id</th>\n",
       "      <th>Age</th>\n",
       "      <th>Class</th>\n",
       "      <th>Flight_Distance</th>\n",
       "      <th>Inflight_wifi_service</th>\n",
       "      <th>Departure/Arrival_time_convenient</th>\n",
       "      <th>Ease_of_Online_booking</th>\n",
       "      <th>Gate_location</th>\n",
       "      <th>Food_and_drink</th>\n",
       "      <th>Online_boarding</th>\n",
       "      <th>Seat_comfort</th>\n",
       "      <th>Inflight_entertainment</th>\n",
       "      <th>On-board_service</th>\n",
       "      <th>Leg_room_service</th>\n",
       "      <th>Baggage_handling</th>\n",
       "      <th>Checkin_service</th>\n",
       "      <th>Inflight_service</th>\n",
       "      <th>Cleanliness</th>\n",
       "      <th>Departure_Delay_in_Minutes</th>\n",
       "      <th>satisfaction</th>\n",
       "      <th>Gender_Male</th>\n",
       "      <th>Customer_Type_Loyal Customer</th>\n",
       "      <th>Type_of_Travel_Business travel</th>\n",
       "    </tr>\n",
       "  </thead>\n",
       "  <tbody>\n",
       "    <tr>\n",
       "      <th>14</th>\n",
       "      <td>14849.0</td>\n",
       "      <td>-0.056376</td>\n",
       "      <td>0.0</td>\n",
       "      <td>-1.041118</td>\n",
       "      <td>4</td>\n",
       "      <td>4</td>\n",
       "      <td>3</td>\n",
       "      <td>3.0</td>\n",
       "      <td>2.0</td>\n",
       "      <td>5</td>\n",
       "      <td>3.0</td>\n",
       "      <td>4.0</td>\n",
       "      <td>4.0</td>\n",
       "      <td>4</td>\n",
       "      <td>4.0</td>\n",
       "      <td>4.0</td>\n",
       "      <td>4.0</td>\n",
       "      <td>3.0</td>\n",
       "      <td>-0.454514</td>\n",
       "      <td>1.0</td>\n",
       "      <td>1.0</td>\n",
       "      <td>1.0</td>\n",
       "      <td>1.0</td>\n",
       "    </tr>\n",
       "    <tr>\n",
       "      <th>66</th>\n",
       "      <td>85554.0</td>\n",
       "      <td>0.545156</td>\n",
       "      <td>0.0</td>\n",
       "      <td>-1.020660</td>\n",
       "      <td>3</td>\n",
       "      <td>1</td>\n",
       "      <td>1</td>\n",
       "      <td>1.0</td>\n",
       "      <td>3.0</td>\n",
       "      <td>4</td>\n",
       "      <td>5.0</td>\n",
       "      <td>4.0</td>\n",
       "      <td>4.0</td>\n",
       "      <td>4</td>\n",
       "      <td>4.0</td>\n",
       "      <td>4.0</td>\n",
       "      <td>4.0</td>\n",
       "      <td>5.0</td>\n",
       "      <td>-0.454514</td>\n",
       "      <td>1.0</td>\n",
       "      <td>0.0</td>\n",
       "      <td>1.0</td>\n",
       "      <td>1.0</td>\n",
       "    </tr>\n",
       "    <tr>\n",
       "      <th>342</th>\n",
       "      <td>48727.0</td>\n",
       "      <td>0.620348</td>\n",
       "      <td>0.0</td>\n",
       "      <td>2.036342</td>\n",
       "      <td>3</td>\n",
       "      <td>5</td>\n",
       "      <td>3</td>\n",
       "      <td>4.0</td>\n",
       "      <td>2.0</td>\n",
       "      <td>5</td>\n",
       "      <td>5.0</td>\n",
       "      <td>4.0</td>\n",
       "      <td>4.0</td>\n",
       "      <td>4</td>\n",
       "      <td>4.0</td>\n",
       "      <td>3.0</td>\n",
       "      <td>4.0</td>\n",
       "      <td>3.0</td>\n",
       "      <td>-0.454514</td>\n",
       "      <td>1.0</td>\n",
       "      <td>0.0</td>\n",
       "      <td>1.0</td>\n",
       "      <td>1.0</td>\n",
       "    </tr>\n",
       "  </tbody>\n",
       "</table>\n",
       "</div>"
      ],
      "text/plain": [
       "          id       Age  Class  Flight_Distance  Inflight_wifi_service  \\\n",
       "14   14849.0 -0.056376    0.0        -1.041118                      4   \n",
       "66   85554.0  0.545156    0.0        -1.020660                      3   \n",
       "342  48727.0  0.620348    0.0         2.036342                      3   \n",
       "\n",
       "     Departure/Arrival_time_convenient  Ease_of_Online_booking  Gate_location  \\\n",
       "14                                   4                       3            3.0   \n",
       "66                                   1                       1            1.0   \n",
       "342                                  5                       3            4.0   \n",
       "\n",
       "     Food_and_drink  Online_boarding  Seat_comfort  Inflight_entertainment  \\\n",
       "14              2.0                5           3.0                     4.0   \n",
       "66              3.0                4           5.0                     4.0   \n",
       "342             2.0                5           5.0                     4.0   \n",
       "\n",
       "     On-board_service  Leg_room_service  Baggage_handling  Checkin_service  \\\n",
       "14                4.0                 4               4.0              4.0   \n",
       "66                4.0                 4               4.0              4.0   \n",
       "342               4.0                 4               4.0              3.0   \n",
       "\n",
       "     Inflight_service  Cleanliness  Departure_Delay_in_Minutes  satisfaction  \\\n",
       "14                4.0          3.0                   -0.454514           1.0   \n",
       "66                4.0          5.0                   -0.454514           1.0   \n",
       "342               4.0          3.0                   -0.454514           1.0   \n",
       "\n",
       "     Gender_Male  Customer_Type_Loyal Customer  Type_of_Travel_Business travel  \n",
       "14           1.0                           1.0                             1.0  \n",
       "66           0.0                           1.0                             1.0  \n",
       "342          0.0                           1.0                             1.0  "
      ]
     },
     "execution_count": 40,
     "metadata": {},
     "output_type": "execute_result"
    }
   ],
   "source": [
    "import math\n",
    "\n",
    "def ceil(x):\n",
    "    return math.ceil(x - 0.5)\n",
    "\n",
    "data_knn[incomplete] = data_knn[incomplete].applymap(ceil)\n",
    "\n",
    "data_knn.loc[null_rows_idx].head(3)"
   ]
  },
  {
   "cell_type": "code",
   "execution_count": 41,
   "id": "79182403",
   "metadata": {},
   "outputs": [
    {
     "data": {
      "text/markdown": [
       "**Results:**"
      ],
      "text/plain": [
       "<IPython.core.display.Markdown object>"
      ]
     },
     "metadata": {},
     "output_type": "display_data"
    },
    {
     "name": "stdout",
     "output_type": "stream",
     "text": [
      "id                        ==> more than 23 values\n",
      "Age                       ==> more than 23 values\n",
      "Class                     ==> [0.0, 1.0, 2.0]\n",
      "Flight_Distance           ==> more than 23 values\n",
      "Inflight_wifi_service     ==> [1, 2, 3, 4, 5]\n",
      "Departure/Arrival_time_convenient ==> [1, 2, 3, 4, 5]\n",
      "Ease_of_Online_booking    ==> [1, 2, 3, 4, 5]\n",
      "Gate_location             ==> [1.0, 2.0, 3.0, 4.0, 5.0]\n",
      "Food_and_drink            ==> [1.0, 2.0, 3.0, 4.0, 5.0]\n",
      "Online_boarding           ==> [1, 2, 3, 4, 5]\n",
      "Seat_comfort              ==> [1.0, 2.0, 3.0, 4.0, 5.0]\n",
      "Inflight_entertainment    ==> [1.0, 2.0, 3.0, 4.0, 5.0]\n",
      "On-board_service          ==> [1.0, 2.0, 3.0, 4.0, 5.0]\n",
      "Leg_room_service          ==> [1, 2, 3, 4, 5]\n",
      "Baggage_handling          ==> [1.0, 2.0, 3.0, 4.0, 5.0]\n",
      "Checkin_service           ==> [1.0, 2.0, 3.0, 4.0, 5.0]\n",
      "Inflight_service          ==> [1.0, 2.0, 3.0, 4.0, 5.0]\n",
      "Cleanliness               ==> [1.0, 2.0, 3.0, 4.0, 5.0]\n",
      "Departure_Delay_in_Minutes ==> more than 23 values\n",
      "satisfaction              ==> [0.0, 1.0]\n",
      "Gender_Male               ==> [0.0, 1.0]\n",
      "Customer_Type_Loyal Customer ==> [0.0, 1.0]\n",
      "Type_of_Travel_Business travel ==> [0.0, 1.0]\n"
     ]
    }
   ],
   "source": [
    "list_column_values(data_knn, data_knn.shape[1],'True')"
   ]
  },
  {
   "cell_type": "code",
   "execution_count": 42,
   "id": "c6c12991",
   "metadata": {},
   "outputs": [],
   "source": [
    "data_knn = data_knn.drop(columns=['id'])"
   ]
  },
  {
   "cell_type": "markdown",
   "id": "0f6513bd",
   "metadata": {},
   "source": [
    "## Splitting the Dataset"
   ]
  },
  {
   "cell_type": "code",
   "execution_count": 43,
   "id": "7ceefbe7",
   "metadata": {},
   "outputs": [],
   "source": [
    "# Identify features and target\n",
    "X = data_knn.drop(columns=['satisfaction'])\n",
    "y = data_knn['satisfaction']"
   ]
  },
  {
   "cell_type": "markdown",
   "id": "06948e2d",
   "metadata": {},
   "source": [
    "### Train Test Split"
   ]
  },
  {
   "cell_type": "code",
   "execution_count": 44,
   "id": "eb2a611f",
   "metadata": {},
   "outputs": [
    {
     "data": {
      "text/plain": [
       "(34321, 8581)"
      ]
     },
     "execution_count": 44,
     "metadata": {},
     "output_type": "execute_result"
    }
   ],
   "source": [
    "X_train, X_val_test, y_train, y_val_test = train_test_split(X, y, test_size = 0.2, random_state = 777)\n",
    "\n",
    "N_train, _ = X_train.shape \n",
    "N_val_test,  _ = X_val_test.shape \n",
    "\n",
    "N_train, N_val_test"
   ]
  },
  {
   "cell_type": "markdown",
   "id": "08ac03c8",
   "metadata": {},
   "source": [
    "### Test Validation Split"
   ]
  },
  {
   "cell_type": "code",
   "execution_count": 45,
   "id": "015a5714",
   "metadata": {},
   "outputs": [
    {
     "data": {
      "text/plain": [
       "(4290, 4291)"
      ]
     },
     "execution_count": 45,
     "metadata": {},
     "output_type": "execute_result"
    }
   ],
   "source": [
    "X_val, X_test, y_val, y_test = train_test_split(X_val_test, y_val_test, test_size = 0.5, random_state = 777)\n",
    "\n",
    "N_val, _ = X_val.shape \n",
    "N_test,  _ = X_test.shape \n",
    "\n",
    "N_val, N_test"
   ]
  },
  {
   "cell_type": "code",
   "execution_count": 46,
   "id": "1b202fe7",
   "metadata": {
    "scrolled": true
   },
   "outputs": [
    {
     "data": {
      "text/plain": [
       "Index(['Age', 'Class', 'Flight_Distance', 'Inflight_wifi_service',\n",
       "       'Departure/Arrival_time_convenient', 'Ease_of_Online_booking',\n",
       "       'Gate_location', 'Food_and_drink', 'Online_boarding', 'Seat_comfort',\n",
       "       'Inflight_entertainment', 'On-board_service', 'Leg_room_service',\n",
       "       'Baggage_handling', 'Checkin_service', 'Inflight_service',\n",
       "       'Cleanliness', 'Departure_Delay_in_Minutes', 'satisfaction',\n",
       "       'Gender_Male', 'Customer_Type_Loyal Customer',\n",
       "       'Type_of_Travel_Business travel'],\n",
       "      dtype='object')"
      ]
     },
     "execution_count": 46,
     "metadata": {},
     "output_type": "execute_result"
    }
   ],
   "source": [
    "data_knn.columns"
   ]
  },
  {
   "cell_type": "markdown",
   "id": "e0be32bc",
   "metadata": {},
   "source": [
    "# Functions for Evaluation Metrics"
   ]
  },
  {
   "cell_type": "markdown",
   "id": "f6d540e5",
   "metadata": {},
   "source": [
    "### ROC Curve"
   ]
  },
  {
   "cell_type": "code",
   "execution_count": 28,
   "id": "944b25ff",
   "metadata": {},
   "outputs": [],
   "source": [
    "def plot_roc_curve(fpr, tpr, roc_auc):\n",
    "    plt.title('Receiver Operating Characteristic')\n",
    "    plt.plot(fpr, tpr, 'b', label = 'AUC = %0.2f' % roc_auc)\n",
    "    plt.legend(loc = 'lower right')\n",
    "    plt.plot([0, 1], [0, 1],'r--')\n",
    "    plt.xlim([0, 1])\n",
    "    plt.ylim([0, 1])\n",
    "    plt.ylabel('True Positive Rate')\n",
    "    plt.xlabel('False Positive Rate')\n",
    "    plt.show()"
   ]
  },
  {
   "cell_type": "markdown",
   "id": "c9891fe3",
   "metadata": {},
   "source": [
    "### PR Curve"
   ]
  },
  {
   "cell_type": "code",
   "execution_count": 18,
   "id": "96cec492",
   "metadata": {},
   "outputs": [],
   "source": [
    "def plot_pr_curve(precision, recall, average_precision):\n",
    "    plt.step(recall, precision, color='b', alpha=0.2, where='post')\n",
    "    plt.fill_between(recall, precision, step='post', alpha=0.2, color='b')   \n",
    "    plt.xlabel('Recall')\n",
    "    plt.ylabel('Precision')\n",
    "    plt.ylim([0.0, 1.05])\n",
    "    plt.xlim([0.0, 1.0])\n",
    "    plt.title('2-class Precision-Recall curve: AP={0:0.2f}'.format(average_precision))\n",
    "    plt.show()"
   ]
  },
  {
   "cell_type": "markdown",
   "id": "4afbaf2e",
   "metadata": {},
   "source": [
    "### Classification Score\n",
    "\n",
    "It gets the model and evaluates it for training and validation."
   ]
  },
  {
   "cell_type": "code",
   "execution_count": 19,
   "id": "df2f055b",
   "metadata": {},
   "outputs": [],
   "source": [
    "def clf_score(clf, X_train, y_train, X_val, y_val, train=True):\n",
    "    if train:\n",
    "        print(\"Train Result:\\n\")\n",
    "        print(\"accuracy score: {0:.4f}\\n\".format(accuracy_score(y_train, clf.predict(X_train))))\n",
    "        print(\"Classification Report: \\n {}\\n\".format(classification_report(y_train, clf.predict(X_train))))\n",
    "        print(\"Confusion Matrix: \\n {}\\n\".format(confusion_matrix(y_train, clf.predict(X_train))))\n",
    "\n",
    "        res = cross_val_score(clf, X_train, y_train, cv=10, scoring='accuracy')\n",
    "        print(\"Average Accuracy: \\t {0:.4f}\".format(np.mean(res)))\n",
    "        print(\"Accuracy SD: \\t\\t {0:.4f}\".format(np.std(res)))\n",
    "\n",
    "    elif train == False:\n",
    "        print(\"Validation Result:\\n\")\n",
    "        print(\"accuracy score: {0:.4f}\\n\".format(accuracy_score(y_val, clf.predict(X_val))))\n",
    "        \n",
    "        precision, recall, _ = precision_recall_curve(y_val, clf.predict(X_val))\n",
    "        average_precision = average_precision_score(y_val, clf.predict(X_val))\n",
    "        plot_pr_curve(precision, recall, average_precision)\n",
    "        \n",
    "        fpr, tpr, _ = roc_curve(y_val, clf.predict(X_val))\n",
    "        roc_auc = roc_auc_score(y_val, clf.predict(X_val))\n",
    "        print(\"roc auc score: {}\\n\".format(roc_auc))\n",
    "        plot_roc_curve(fpr, tpr, roc_auc)\n",
    "        \n",
    "        print(\"Classification Report: \\n {}\\n\".format(classification_report(y_val, clf.predict(X_val))))\n",
    "        print(\"Confusion Matrix: \\n {}\\n\".format(confusion_matrix(y_val, clf.predict(X_val))))\n",
    "        plot_confusion_matrix(clf,  X_val, clf.predict(X_val))\n",
    "        print(\"End of validation Result\\n\")"
   ]
  },
  {
   "cell_type": "markdown",
   "id": "c9614f87",
   "metadata": {},
   "source": [
    "### Model Results Comparison"
   ]
  },
  {
   "cell_type": "code",
   "execution_count": 20,
   "id": "bbf70fc5",
   "metadata": {},
   "outputs": [],
   "source": [
    "model_comparison = pd.DataFrame(columns=['precision','recall','f1-score','support'])\n",
    "\n",
    "def add_result(model_name, y_actual, y_pred):\n",
    "    global model_comparison\n",
    "\n",
    "    report = classification_report(y_actual, y_pred, output_dict=True)\n",
    "    scores = pd.DataFrame(report['1.0'],index=[model_name])\n",
    "\n",
    "    model_comparison = model_comparison.append(scores)\n",
    "    \n",
    "    print(model_comparison)"
   ]
  },
  {
   "cell_type": "code",
   "execution_count": 47,
   "id": "045b8b97",
   "metadata": {},
   "outputs": [],
   "source": [
    "X_train = X_train.drop(columns=['Gender_Male', 'Gate_location', 'Food_and_drink', 'Age'])\n",
    "X_val = X_val.drop(columns=['Gender_Male', 'Gate_location', 'Food_and_drink', 'Age'])"
   ]
  },
  {
   "cell_type": "code",
   "execution_count": 48,
   "id": "3d72dd25",
   "metadata": {},
   "outputs": [
    {
     "name": "stdout",
     "output_type": "stream",
     "text": [
      "before: (4291, 21)\n",
      "after (4291, 17)\n"
     ]
    }
   ],
   "source": [
    "print('before:', X_test.shape)\n",
    "X_test = X_test.drop(columns=['Gender_Male', 'Gate_location', 'Food_and_drink', 'Age'])\n",
    "print('after', X_test.shape)"
   ]
  },
  {
   "cell_type": "markdown",
   "id": "94b6eec9",
   "metadata": {},
   "source": [
    "## The H2O- Auto ML"
   ]
  },
  {
   "cell_type": "markdown",
   "id": "0277f71f",
   "metadata": {},
   "source": [
    "#### In the other file we did a aH2O Auto ML test, Model Summary show as below: \n",
    "Gradient Boosting Machine \n",
    "\n",
    "number_of_trees = 78    \n",
    "number_of_internal_trees=78   \n",
    "model_size_in_bytes=216621    \n",
    "min_depth = 10  \n",
    "max_depth = 10  \n",
    "mean_depth= 10   \n",
    "min_leaves=100   \n",
    "max_leaves    = 344 \n",
    "mean_leaves = 216.564\n"
   ]
  },
  {
   "cell_type": "code",
   "execution_count": 49,
   "id": "b9be98ec",
   "metadata": {},
   "outputs": [],
   "source": [
    "from sklearn.ensemble import GradientBoostingClassifier"
   ]
  },
  {
   "cell_type": "code",
   "execution_count": 50,
   "id": "3ae96189",
   "metadata": {},
   "outputs": [],
   "source": [
    "gbm_clf = GradientBoostingClassifier(#number_of_trees = 78,\n",
    "                                     #number_of_internal_trees=78,\n",
    "                                     #model_size_in_bytes=216621,\n",
    "                                     #min_depth = 10,\n",
    "                                     max_depth = 10,\n",
    "                                     #mean_depth= 10,\n",
    "                                     #min_leaves=100,\n",
    "                                     #max_leaves    = 344\n",
    "                                     #mean_leaves = 216.564\n",
    ")\n",
    "    \n"
   ]
  },
  {
   "cell_type": "code",
   "execution_count": 51,
   "id": "d2840bcb",
   "metadata": {},
   "outputs": [],
   "source": [
    "model_gbm= gbm_clf.fit(X_train, y_train)"
   ]
  },
  {
   "cell_type": "code",
   "execution_count": 52,
   "id": "7b95f57e",
   "metadata": {},
   "outputs": [
    {
     "name": "stdout",
     "output_type": "stream",
     "text": [
      "Validation Result:\n",
      "\n",
      "accuracy score: 0.9762\n",
      "\n"
     ]
    },
    {
     "data": {
      "image/png": "[encoded data removed]",
      "text/plain": [
       "<Figure size 432x288 with 1 Axes>"
      ]
     },
     "metadata": {
      "needs_background": "light"
     },
     "output_type": "display_data"
    },
    {
     "name": "stdout",
     "output_type": "stream",
     "text": [
      "roc auc score: 0.9766046447711969\n",
      "\n"
     ]
    },
    {
     "data": {
      "image/png": "[encoded data removed]",
      "text/plain": [
       "<Figure size 432x288 with 1 Axes>"
      ]
     },
     "metadata": {
      "needs_background": "light"
     },
     "output_type": "display_data"
    },
    {
     "name": "stdout",
     "output_type": "stream",
     "text": [
      "Classification Report: \n",
      "               precision    recall  f1-score   support\n",
      "\n",
      "         0.0       0.97      0.98      0.97      1915\n",
      "         1.0       0.98      0.97      0.98      2375\n",
      "\n",
      "    accuracy                           0.98      4290\n",
      "   macro avg       0.98      0.98      0.98      4290\n",
      "weighted avg       0.98      0.98      0.98      4290\n",
      "\n",
      "\n",
      "Confusion Matrix: \n",
      " [[1877   38]\n",
      " [  64 2311]]\n",
      "\n",
      "End of validation Result\n",
      "\n"
     ]
    },
    {
     "data": {
      "image/png": "[encoded data removed]",
      "text/plain": [
       "<Figure size 432x288 with 2 Axes>"
      ]
     },
     "metadata": {
      "needs_background": "light"
     },
     "output_type": "display_data"
    }
   ],
   "source": [
    "clf_score(model_gbm, X_train, y_train, X_val, y_val, train=False)"
   ]
  },
  {
   "cell_type": "code",
   "execution_count": 53,
   "id": "2ba541ed",
   "metadata": {},
   "outputs": [
    {
     "name": "stdout",
     "output_type": "stream",
     "text": [
      "     precision    recall  f1-score support\n",
      "GBM   0.983823  0.973053  0.978408    2375\n"
     ]
    }
   ],
   "source": [
    "# Add result to model_comparison dataframe\n",
    "model_name = 'GBM'\n",
    "y_pred = model_gbm.predict(X_val)\n",
    "\n",
    "add_result(model_name, y_val, y_pred)"
   ]
  },
  {
   "cell_type": "markdown",
   "id": "5c15e123",
   "metadata": {},
   "source": [
    "#### Validation Curve"
   ]
  },
  {
   "cell_type": "code",
   "execution_count": 54,
   "id": "a0f77ab7",
   "metadata": {
    "scrolled": true
   },
   "outputs": [
    {
     "data": {
      "image/png": "[encoded data removed]",
      "text/plain": [
       "<Figure size 432x288 with 1 Axes>"
      ]
     },
     "metadata": {
      "needs_background": "light"
     },
     "output_type": "display_data"
    },
    {
     "data": {
      "text/plain": [
       "<AxesSubplot:title={'center':'Validation Curve for GradientBoostingClassifier'}, xlabel='max_depth', ylabel='score'>"
      ]
     },
     "execution_count": 54,
     "metadata": {},
     "output_type": "execute_result"
    }
   ],
   "source": [
    "from yellowbrick.model_selection import ValidationCurve\n",
    "\n",
    "viz = ValidationCurve(\n",
    "    GradientBoostingClassifier(n_estimators=40, random_state=42), \n",
    "    param_name=\"max_depth\",\n",
    "    param_range=np.arange(1, 11), \n",
    "    cv=5, \n",
    "    scoring=\"f1_weighted\",\n",
    "    np_jobs=8\n",
    ")\n",
    "\n",
    "# Fit and show the visualizer\n",
    "viz.fit(X_train, y_train)\n",
    "viz.poof()"
   ]
  },
  {
   "cell_type": "code",
   "execution_count": 55,
   "id": "3deca37b",
   "metadata": {},
   "outputs": [],
   "source": [
    "X_train_small = X_train.iloc[:20000,]\n",
    "y_train_small = y_train.iloc[:20000]"
   ]
  },
  {
   "cell_type": "code",
   "execution_count": 56,
   "id": "1d580569",
   "metadata": {},
   "outputs": [
    {
     "data": {
      "image/png": "[encoded data removed]",
      "text/plain": [
       "<Figure size 432x288 with 1 Axes>"
      ]
     },
     "metadata": {
      "needs_background": "light"
     },
     "output_type": "display_data"
    },
    {
     "data": {
      "text/plain": [
       "<AxesSubplot:title={'center':'Learning Curve for GradientBoostingClassifier'}, xlabel='Training Instances', ylabel='Score'>"
      ]
     },
     "execution_count": 56,
     "metadata": {},
     "output_type": "execute_result"
    }
   ],
   "source": [
    "from sklearn.model_selection import StratifiedKFold\n",
    "from yellowbrick.model_selection import LearningCurve\n",
    "\n",
    "import numpy as np\n",
    "\n",
    "\n",
    "# Create the learning curve visualizer\n",
    "cv = StratifiedKFold(n_splits=12)\n",
    "sizes = np.linspace(0.3, 1.0, 10)\n",
    "\n",
    "# Instantiate the classification model and visualizer\n",
    "\n",
    "visualizer_gbm = LearningCurve(\n",
    "    model_gbm, \n",
    "    cv=cv, \n",
    "    scoring='f1_weighted', \n",
    "    train_sizes=sizes, \n",
    "    n_jobs=8\n",
    ")\n",
    "\n",
    "visualizer_gbm.fit(X_train_small, y_train_small)        # Fit the data to the visualizer\n",
    "visualizer_gbm.poof() "
   ]
  },
  {
   "cell_type": "code",
   "execution_count": 57,
   "id": "1c38fe8f",
   "metadata": {},
   "outputs": [
    {
     "data": {
      "text/html": [
       "<div>\n",
       "<style scoped>\n",
       "    .dataframe tbody tr th:only-of-type {\n",
       "        vertical-align: middle;\n",
       "    }\n",
       "\n",
       "    .dataframe tbody tr th {\n",
       "        vertical-align: top;\n",
       "    }\n",
       "\n",
       "    .dataframe thead th {\n",
       "        text-align: right;\n",
       "    }\n",
       "</style>\n",
       "<table border=\"1\" class=\"dataframe\">\n",
       "  <thead>\n",
       "    <tr style=\"text-align: right;\">\n",
       "      <th></th>\n",
       "      <th>0.0</th>\n",
       "      <th>1.0</th>\n",
       "      <th>accuracy</th>\n",
       "      <th>macro avg</th>\n",
       "      <th>weighted avg</th>\n",
       "    </tr>\n",
       "  </thead>\n",
       "  <tbody>\n",
       "    <tr>\n",
       "      <th>precision</th>\n",
       "      <td>0.968800</td>\n",
       "      <td>0.980417</td>\n",
       "      <td>0.975297</td>\n",
       "      <td>0.974608</td>\n",
       "      <td>0.975330</td>\n",
       "    </tr>\n",
       "    <tr>\n",
       "      <th>recall</th>\n",
       "      <td>0.974987</td>\n",
       "      <td>0.975539</td>\n",
       "      <td>0.975297</td>\n",
       "      <td>0.975263</td>\n",
       "      <td>0.975297</td>\n",
       "    </tr>\n",
       "    <tr>\n",
       "      <th>f1-score</th>\n",
       "      <td>0.971883</td>\n",
       "      <td>0.977972</td>\n",
       "      <td>0.975297</td>\n",
       "      <td>0.974928</td>\n",
       "      <td>0.975306</td>\n",
       "    </tr>\n",
       "    <tr>\n",
       "      <th>support</th>\n",
       "      <td>1879.000000</td>\n",
       "      <td>2412.000000</td>\n",
       "      <td>0.975297</td>\n",
       "      <td>4291.000000</td>\n",
       "      <td>4291.000000</td>\n",
       "    </tr>\n",
       "  </tbody>\n",
       "</table>\n",
       "</div>"
      ],
      "text/plain": [
       "                   0.0          1.0  accuracy    macro avg  weighted avg\n",
       "precision     0.968800     0.980417  0.975297     0.974608      0.975330\n",
       "recall        0.974987     0.975539  0.975297     0.975263      0.975297\n",
       "f1-score      0.971883     0.977972  0.975297     0.974928      0.975306\n",
       "support    1879.000000  2412.000000  0.975297  4291.000000   4291.000000"
      ]
     },
     "execution_count": 57,
     "metadata": {},
     "output_type": "execute_result"
    }
   ],
   "source": [
    "y_pred = gbm_clf.predict(X_test)\n",
    "report = classification_report(y_test, y_pred, output_dict=True)\n",
    "scores = pd.DataFrame(report)\n",
    "\n",
    "scores"
   ]
  },
  {
   "cell_type": "markdown",
   "id": "2efd07da",
   "metadata": {},
   "source": [
    "### It will be overfitting"
   ]
  },
  {
   "cell_type": "markdown",
   "id": "eb71d48f",
   "metadata": {},
   "source": [
    "### Test TPOT Model result"
   ]
  },
  {
   "cell_type": "markdown",
   "id": "05c0a6e0",
   "metadata": {},
   "source": [
    "Best pipeline: ExtraTreesClassifier(PolynomialFeatures(MinMaxScaler(input_matrix), degree=2, include_bias=False, interaction_only=False), bootstrap=False, criterion=entropy, max_features=0.6000000000000001, min_samples_leaf=3, min_samples_split=13, n_estimators=100)"
   ]
  },
  {
   "cell_type": "code",
   "execution_count": 58,
   "id": "f83e0c8a",
   "metadata": {},
   "outputs": [],
   "source": [
    "from sklearn.ensemble import ExtraTreesClassifier\n",
    "\n",
    "tree_clf = ExtraTreesClassifier(#PolynomialFeatures(MinMaxScaler(input_matrix), \n",
    "                                                     #degree=2, \n",
    "                                                     #include_bias=False, \n",
    "                                                     #interaction_only=False), \n",
    "                                  bootstrap=False, \n",
    "                                  criterion='entropy',\n",
    "                                  max_features=0.6000000000000001, \n",
    "                                  min_samples_leaf=3, \n",
    "                                  min_samples_split=13,\n",
    "                                  n_estimators=100)"
   ]
  },
  {
   "cell_type": "code",
   "execution_count": 59,
   "id": "3bc506ec",
   "metadata": {},
   "outputs": [
    {
     "name": "stdout",
     "output_type": "stream",
     "text": [
      "Validation Result:\n",
      "\n",
      "accuracy score: 0.9774\n",
      "\n"
     ]
    },
    {
     "data": {
      "image/png": "[encoded data removed]",
      "text/plain": [
       "<Figure size 432x288 with 1 Axes>"
      ]
     },
     "metadata": {
      "needs_background": "light"
     },
     "output_type": "display_data"
    },
    {
     "name": "stdout",
     "output_type": "stream",
     "text": [
      "roc auc score: 0.9778595575099629\n",
      "\n"
     ]
    },
    {
     "data": {
      "image/png": "[encoded data removed]",
      "text/plain": [
       "<Figure size 432x288 with 1 Axes>"
      ]
     },
     "metadata": {
      "needs_background": "light"
     },
     "output_type": "display_data"
    },
    {
     "name": "stdout",
     "output_type": "stream",
     "text": [
      "Classification Report: \n",
      "               precision    recall  f1-score   support\n",
      "\n",
      "         0.0       0.97      0.98      0.97      1915\n",
      "         1.0       0.99      0.97      0.98      2375\n",
      "\n",
      "    accuracy                           0.98      4290\n",
      "   macro avg       0.98      0.98      0.98      4290\n",
      "weighted avg       0.98      0.98      0.98      4290\n",
      "\n",
      "\n",
      "Confusion Matrix: \n",
      " [[1881   34]\n",
      " [  63 2312]]\n",
      "\n",
      "End of validation Result\n",
      "\n"
     ]
    },
    {
     "data": {
      "image/png": "[encoded data removed]",
      "text/plain": [
       "<Figure size 432x288 with 2 Axes>"
      ]
     },
     "metadata": {
      "needs_background": "light"
     },
     "output_type": "display_data"
    }
   ],
   "source": [
    "model_tree = tree_clf.fit(X_train,y_train)\n",
    "\n",
    "clf_score(model_tree, X_train, y_train, X_val, y_val, train=False)"
   ]
  },
  {
   "cell_type": "code",
   "execution_count": 60,
   "id": "82c3a850",
   "metadata": {},
   "outputs": [
    {
     "name": "stdout",
     "output_type": "stream",
     "text": [
      "           precision    recall  f1-score support\n",
      "GBM         0.983823  0.973053  0.978408    2375\n",
      "ExtraTree   0.985507  0.973474  0.979454    2375\n"
     ]
    }
   ],
   "source": [
    "# Add result to model_comparison dataframe\n",
    "model_name = 'ExtraTree'\n",
    "y_pred = model_tree.predict(X_val)\n",
    "\n",
    "add_result(model_name, y_val, y_pred)"
   ]
  },
  {
   "cell_type": "markdown",
   "id": "5290717c",
   "metadata": {},
   "source": [
    "#### Validation Curve"
   ]
  },
  {
   "cell_type": "code",
   "execution_count": 61,
   "id": "9f80feef",
   "metadata": {
    "scrolled": false
   },
   "outputs": [
    {
     "data": {
      "image/png": "[encoded data removed]",
      "text/plain": [
       "<Figure size 432x288 with 1 Axes>"
      ]
     },
     "metadata": {
      "needs_background": "light"
     },
     "output_type": "display_data"
    },
    {
     "data": {
      "text/plain": [
       "<AxesSubplot:title={'center':'Validation Curve for ExtraTreesClassifier'}, xlabel='max_depth', ylabel='score'>"
      ]
     },
     "execution_count": 61,
     "metadata": {},
     "output_type": "execute_result"
    }
   ],
   "source": [
    "from yellowbrick.model_selection import ValidationCurve\n",
    "\n",
    "viz = ValidationCurve(\n",
    "    ExtraTreesClassifier(n_estimators=40, random_state=42), \n",
    "    param_name=\"max_depth\",\n",
    "    param_range=np.arange(1, 11), \n",
    "    cv=5, \n",
    "    scoring=\"f1_weighted\",\n",
    "    np_jobs=8\n",
    ")\n",
    "\n",
    "# Fit and show the visualizer\n",
    "viz.fit(X_train, y_train)\n",
    "viz.poof()"
   ]
  },
  {
   "cell_type": "code",
   "execution_count": 62,
   "id": "02b9aafd",
   "metadata": {},
   "outputs": [],
   "source": [
    "X_train_small = X_train.iloc[:2000,]\n",
    "y_train_small = y_train.iloc[:2000]"
   ]
  },
  {
   "cell_type": "code",
   "execution_count": 63,
   "id": "da29af6c",
   "metadata": {},
   "outputs": [
    {
     "data": {
      "image/png": "[encoded data removed]",
      "text/plain": [
       "<Figure size 432x288 with 1 Axes>"
      ]
     },
     "metadata": {
      "needs_background": "light"
     },
     "output_type": "display_data"
    },
    {
     "data": {
      "text/plain": [
       "<AxesSubplot:title={'center':'Learning Curve for ExtraTreesClassifier'}, xlabel='Training Instances', ylabel='Score'>"
      ]
     },
     "execution_count": 63,
     "metadata": {},
     "output_type": "execute_result"
    }
   ],
   "source": [
    "from sklearn.model_selection import StratifiedKFold\n",
    "from yellowbrick.model_selection import LearningCurve\n",
    "\n",
    "import numpy as np\n",
    "\n",
    "\n",
    "# Create the learning curve visualizer\n",
    "cv = StratifiedKFold(n_splits=12)\n",
    "sizes = np.linspace(0.3, 1.0, 10)\n",
    "\n",
    "# Instantiate the classification model and visualizer\n",
    "\n",
    "visualizer = LearningCurve(\n",
    "    model_tree, \n",
    "    cv=cv, \n",
    "    scoring='f1_weighted', \n",
    "    train_sizes=sizes, \n",
    "    n_jobs=8\n",
    ")\n",
    "\n",
    "visualizer.fit(X_train_small, y_train_small)        # Fit the data to the visualizer\n",
    "visualizer.poof() "
   ]
  },
  {
   "cell_type": "code",
   "execution_count": 64,
   "id": "ee1dad94",
   "metadata": {},
   "outputs": [
    {
     "data": {
      "image/png": "[encoded data removed]",
      "text/plain": [
       "<Figure size 432x288 with 1 Axes>"
      ]
     },
     "metadata": {
      "needs_background": "light"
     },
     "output_type": "display_data"
    },
    {
     "data": {
      "text/plain": [
       "<AxesSubplot:title={'center':'Learning Curve for ExtraTreesClassifier'}, xlabel='Training Instances', ylabel='Score'>"
      ]
     },
     "execution_count": 64,
     "metadata": {},
     "output_type": "execute_result"
    }
   ],
   "source": [
    "X_train_small = X_train.iloc[:20000,]\n",
    "y_train_small = y_train.iloc[:20000]\n",
    "\n",
    "# Create the learning curve visualizer\n",
    "cv = StratifiedKFold(n_splits=12)\n",
    "sizes = np.linspace(0.3, 1.0, 10)\n",
    "\n",
    "# Instantiate the classification model and visualizer\n",
    "\n",
    "visualizer = LearningCurve(\n",
    "    model_tree, \n",
    "    cv=cv, \n",
    "    scoring='f1_weighted', \n",
    "    train_sizes=sizes, \n",
    "    n_jobs=8\n",
    ")\n",
    "\n",
    "visualizer.fit(X_train_small, y_train_small)        # Fit the data to the visualizer\n",
    "visualizer.poof() "
   ]
  },
  {
   "cell_type": "code",
   "execution_count": 65,
   "id": "dd549f56",
   "metadata": {},
   "outputs": [
    {
     "data": {
      "text/html": [
       "<div>\n",
       "<style scoped>\n",
       "    .dataframe tbody tr th:only-of-type {\n",
       "        vertical-align: middle;\n",
       "    }\n",
       "\n",
       "    .dataframe tbody tr th {\n",
       "        vertical-align: top;\n",
       "    }\n",
       "\n",
       "    .dataframe thead th {\n",
       "        text-align: right;\n",
       "    }\n",
       "</style>\n",
       "<table border=\"1\" class=\"dataframe\">\n",
       "  <thead>\n",
       "    <tr style=\"text-align: right;\">\n",
       "      <th></th>\n",
       "      <th>0.0</th>\n",
       "      <th>1.0</th>\n",
       "      <th>accuracy</th>\n",
       "      <th>macro avg</th>\n",
       "      <th>weighted avg</th>\n",
       "    </tr>\n",
       "  </thead>\n",
       "  <tbody>\n",
       "    <tr>\n",
       "      <th>precision</th>\n",
       "      <td>0.964417</td>\n",
       "      <td>0.984874</td>\n",
       "      <td>0.975763</td>\n",
       "      <td>0.974645</td>\n",
       "      <td>0.975916</td>\n",
       "    </tr>\n",
       "    <tr>\n",
       "      <th>recall</th>\n",
       "      <td>0.980841</td>\n",
       "      <td>0.971808</td>\n",
       "      <td>0.975763</td>\n",
       "      <td>0.976324</td>\n",
       "      <td>0.975763</td>\n",
       "    </tr>\n",
       "    <tr>\n",
       "      <th>f1-score</th>\n",
       "      <td>0.972559</td>\n",
       "      <td>0.978297</td>\n",
       "      <td>0.975763</td>\n",
       "      <td>0.975428</td>\n",
       "      <td>0.975785</td>\n",
       "    </tr>\n",
       "    <tr>\n",
       "      <th>support</th>\n",
       "      <td>1879.000000</td>\n",
       "      <td>2412.000000</td>\n",
       "      <td>0.975763</td>\n",
       "      <td>4291.000000</td>\n",
       "      <td>4291.000000</td>\n",
       "    </tr>\n",
       "  </tbody>\n",
       "</table>\n",
       "</div>"
      ],
      "text/plain": [
       "                   0.0          1.0  accuracy    macro avg  weighted avg\n",
       "precision     0.964417     0.984874  0.975763     0.974645      0.975916\n",
       "recall        0.980841     0.971808  0.975763     0.976324      0.975763\n",
       "f1-score      0.972559     0.978297  0.975763     0.975428      0.975785\n",
       "support    1879.000000  2412.000000  0.975763  4291.000000   4291.000000"
      ]
     },
     "execution_count": 65,
     "metadata": {},
     "output_type": "execute_result"
    }
   ],
   "source": [
    "y_pred = model_tree.predict(X_test)\n",
    "report = classification_report(y_test, y_pred, output_dict=True)\n",
    "scores = pd.DataFrame(report)\n",
    "\n",
    "scores"
   ]
  },
  {
   "cell_type": "code",
   "execution_count": 66,
   "id": "fcb9b61c",
   "metadata": {},
   "outputs": [
    {
     "data": {
      "text/plain": [
       "(34321, 17)"
      ]
     },
     "execution_count": 66,
     "metadata": {},
     "output_type": "execute_result"
    }
   ],
   "source": [
    "X_train.shape"
   ]
  },
  {
   "cell_type": "markdown",
   "id": "def0bc8d",
   "metadata": {},
   "source": [
    "### The LightGBM After Hyperopt hyperparameters tuning"
   ]
  },
  {
   "cell_type": "code",
   "execution_count": 67,
   "id": "312e18f1",
   "metadata": {},
   "outputs": [],
   "source": [
    "# Initialize LGBMClassifier with best hyperparameters\n",
    "lgbm_clf = LGBMClassifier(n_estimators= 689,\n",
    "                          learning_rate= 0.017868454799152795,\n",
    "                          num_leaves=54,\n",
    "                          max_depth= 6,\n",
    "                          n_jobs=-1,\n",
    "                          verbose=-1,\n",
    "                          random_state=42 )\n",
    "\n",
    "model_lgbm= lgbm_clf.fit(X_train, y_train)\n"
   ]
  },
  {
   "cell_type": "code",
   "execution_count": 69,
   "id": "d4a3fe88",
   "metadata": {},
   "outputs": [
    {
     "name": "stdout",
     "output_type": "stream",
     "text": [
      "           precision    recall  f1-score support\n",
      "GBM         0.983823  0.973053  0.978408    2375\n",
      "ExtraTree   0.985507  0.973474  0.979454    2375\n",
      "LightGBM    0.983823  0.973053  0.978408    2375\n"
     ]
    }
   ],
   "source": [
    "# Add result to model_comparison dataframe\n",
    "model_name = 'LightGBM'\n",
    "y_pred = model_gbm.predict(X_val)\n",
    "\n",
    "add_result(model_name, y_val, y_pred)"
   ]
  },
  {
   "cell_type": "code",
   "execution_count": 70,
   "id": "26c76031",
   "metadata": {},
   "outputs": [
    {
     "data": {
      "text/html": [
       "<div>\n",
       "<style scoped>\n",
       "    .dataframe tbody tr th:only-of-type {\n",
       "        vertical-align: middle;\n",
       "    }\n",
       "\n",
       "    .dataframe tbody tr th {\n",
       "        vertical-align: top;\n",
       "    }\n",
       "\n",
       "    .dataframe thead th {\n",
       "        text-align: right;\n",
       "    }\n",
       "</style>\n",
       "<table border=\"1\" class=\"dataframe\">\n",
       "  <thead>\n",
       "    <tr style=\"text-align: right;\">\n",
       "      <th></th>\n",
       "      <th>0.0</th>\n",
       "      <th>1.0</th>\n",
       "      <th>accuracy</th>\n",
       "      <th>macro avg</th>\n",
       "      <th>weighted avg</th>\n",
       "    </tr>\n",
       "  </thead>\n",
       "  <tbody>\n",
       "    <tr>\n",
       "      <th>precision</th>\n",
       "      <td>0.964546</td>\n",
       "      <td>0.987779</td>\n",
       "      <td>0.977395</td>\n",
       "      <td>0.976163</td>\n",
       "      <td>0.977606</td>\n",
       "    </tr>\n",
       "    <tr>\n",
       "      <th>recall</th>\n",
       "      <td>0.984566</td>\n",
       "      <td>0.971808</td>\n",
       "      <td>0.977395</td>\n",
       "      <td>0.978187</td>\n",
       "      <td>0.977395</td>\n",
       "    </tr>\n",
       "    <tr>\n",
       "      <th>f1-score</th>\n",
       "      <td>0.974454</td>\n",
       "      <td>0.979728</td>\n",
       "      <td>0.977395</td>\n",
       "      <td>0.977091</td>\n",
       "      <td>0.977419</td>\n",
       "    </tr>\n",
       "    <tr>\n",
       "      <th>support</th>\n",
       "      <td>1879.000000</td>\n",
       "      <td>2412.000000</td>\n",
       "      <td>0.977395</td>\n",
       "      <td>4291.000000</td>\n",
       "      <td>4291.000000</td>\n",
       "    </tr>\n",
       "  </tbody>\n",
       "</table>\n",
       "</div>"
      ],
      "text/plain": [
       "                   0.0          1.0  accuracy    macro avg  weighted avg\n",
       "precision     0.964546     0.987779  0.977395     0.976163      0.977606\n",
       "recall        0.984566     0.971808  0.977395     0.978187      0.977395\n",
       "f1-score      0.974454     0.979728  0.977395     0.977091      0.977419\n",
       "support    1879.000000  2412.000000  0.977395  4291.000000   4291.000000"
      ]
     },
     "execution_count": 70,
     "metadata": {},
     "output_type": "execute_result"
    }
   ],
   "source": [
    "y_pred = model_lgbm.predict(X_test)\n",
    "report = classification_report(y_test, y_pred, output_dict=True)\n",
    "scores = pd.DataFrame(report)\n",
    "\n",
    "scores"
   ]
  },
  {
   "cell_type": "code",
   "execution_count": 71,
   "id": "e54c0856",
   "metadata": {},
   "outputs": [
    {
     "data": {
      "image/png": "[encoded data removed]",
      "text/plain": [
       "<Figure size 432x288 with 1 Axes>"
      ]
     },
     "metadata": {
      "needs_background": "light"
     },
     "output_type": "display_data"
    },
    {
     "data": {
      "text/plain": [
       "<AxesSubplot:title={'center':'Learning Curve for LGBMClassifier'}, xlabel='Training Instances', ylabel='Score'>"
      ]
     },
     "execution_count": 71,
     "metadata": {},
     "output_type": "execute_result"
    }
   ],
   "source": [
    "# Instantiate the classification model and visualizer\n",
    "\n",
    "visualizer_lgbm = LearningCurve(\n",
    "    model_lgbm, \n",
    "    cv=cv, \n",
    "    scoring='f1_weighted', \n",
    "    train_sizes=sizes, \n",
    "    n_jobs=8\n",
    ")\n",
    "\n",
    "visualizer_lgbm.fit(X_train_small, y_train_small)        # Fit the data to the visualizer\n",
    "visualizer_lgbm.poof() "
   ]
  },
  {
   "cell_type": "markdown",
   "id": "ba40bc0e",
   "metadata": {},
   "source": [
    "### Feature Importance"
   ]
  },
  {
   "cell_type": "code",
   "execution_count": 72,
   "id": "2698b555",
   "metadata": {},
   "outputs": [
    {
     "data": {
      "text/html": [
       "<div>\n",
       "<style scoped>\n",
       "    .dataframe tbody tr th:only-of-type {\n",
       "        vertical-align: middle;\n",
       "    }\n",
       "\n",
       "    .dataframe tbody tr th {\n",
       "        vertical-align: top;\n",
       "    }\n",
       "\n",
       "    .dataframe thead th {\n",
       "        text-align: right;\n",
       "    }\n",
       "</style>\n",
       "<table border=\"1\" class=\"dataframe\">\n",
       "  <thead>\n",
       "    <tr style=\"text-align: right;\">\n",
       "      <th></th>\n",
       "      <th>importance</th>\n",
       "      <th>feature</th>\n",
       "    </tr>\n",
       "  </thead>\n",
       "  <tbody>\n",
       "    <tr>\n",
       "      <th>1</th>\n",
       "      <td>4677</td>\n",
       "      <td>Flight_Distance</td>\n",
       "    </tr>\n",
       "    <tr>\n",
       "      <th>2</th>\n",
       "      <td>2543</td>\n",
       "      <td>Inflight_wifi_service</td>\n",
       "    </tr>\n",
       "    <tr>\n",
       "      <th>3</th>\n",
       "      <td>2141</td>\n",
       "      <td>Departure/Arrival_time_convenient</td>\n",
       "    </tr>\n",
       "    <tr>\n",
       "      <th>0</th>\n",
       "      <td>2105</td>\n",
       "      <td>Class</td>\n",
       "    </tr>\n",
       "    <tr>\n",
       "      <th>6</th>\n",
       "      <td>2062</td>\n",
       "      <td>Seat_comfort</td>\n",
       "    </tr>\n",
       "    <tr>\n",
       "      <th>5</th>\n",
       "      <td>2054</td>\n",
       "      <td>Online_boarding</td>\n",
       "    </tr>\n",
       "    <tr>\n",
       "      <th>10</th>\n",
       "      <td>2039</td>\n",
       "      <td>Baggage_handling</td>\n",
       "    </tr>\n",
       "    <tr>\n",
       "      <th>12</th>\n",
       "      <td>1755</td>\n",
       "      <td>Inflight_service</td>\n",
       "    </tr>\n",
       "    <tr>\n",
       "      <th>7</th>\n",
       "      <td>1719</td>\n",
       "      <td>Inflight_entertainment</td>\n",
       "    </tr>\n",
       "    <tr>\n",
       "      <th>11</th>\n",
       "      <td>1658</td>\n",
       "      <td>Checkin_service</td>\n",
       "    </tr>\n",
       "    <tr>\n",
       "      <th>9</th>\n",
       "      <td>1658</td>\n",
       "      <td>Leg_room_service</td>\n",
       "    </tr>\n",
       "    <tr>\n",
       "      <th>16</th>\n",
       "      <td>1500</td>\n",
       "      <td>Type_of_Travel_Business travel</td>\n",
       "    </tr>\n",
       "    <tr>\n",
       "      <th>14</th>\n",
       "      <td>1455</td>\n",
       "      <td>Departure_Delay_in_Minutes</td>\n",
       "    </tr>\n",
       "    <tr>\n",
       "      <th>13</th>\n",
       "      <td>1447</td>\n",
       "      <td>Cleanliness</td>\n",
       "    </tr>\n",
       "    <tr>\n",
       "      <th>8</th>\n",
       "      <td>1253</td>\n",
       "      <td>On-board_service</td>\n",
       "    </tr>\n",
       "    <tr>\n",
       "      <th>4</th>\n",
       "      <td>1184</td>\n",
       "      <td>Ease_of_Online_booking</td>\n",
       "    </tr>\n",
       "    <tr>\n",
       "      <th>15</th>\n",
       "      <td>1110</td>\n",
       "      <td>Customer_Type_Loyal Customer</td>\n",
       "    </tr>\n",
       "  </tbody>\n",
       "</table>\n",
       "</div>"
      ],
      "text/plain": [
       "    importance                            feature\n",
       "1         4677                    Flight_Distance\n",
       "2         2543              Inflight_wifi_service\n",
       "3         2141  Departure/Arrival_time_convenient\n",
       "0         2105                              Class\n",
       "6         2062                       Seat_comfort\n",
       "5         2054                    Online_boarding\n",
       "10        2039                   Baggage_handling\n",
       "12        1755                   Inflight_service\n",
       "7         1719             Inflight_entertainment\n",
       "11        1658                    Checkin_service\n",
       "9         1658                   Leg_room_service\n",
       "16        1500     Type_of_Travel_Business travel\n",
       "14        1455         Departure_Delay_in_Minutes\n",
       "13        1447                        Cleanliness\n",
       "8         1253                   On-board_service\n",
       "4         1184             Ease_of_Online_booking\n",
       "15        1110       Customer_Type_Loyal Customer"
      ]
     },
     "execution_count": 72,
     "metadata": {},
     "output_type": "execute_result"
    }
   ],
   "source": [
    "df_feature_importance = pd.DataFrame({'importance':model_lgbm.feature_importances_, 'feature': X_train.columns.values})\n",
    "df_feature_importance.sort_values(by = 'importance', ascending=False)"
   ]
  },
  {
   "cell_type": "code",
   "execution_count": 73,
   "id": "e235f364",
   "metadata": {},
   "outputs": [
    {
     "data": {
      "image/png": "[encoded data removed]",
      "text/plain": [
       "<Figure size 432x288 with 1 Axes>"
      ]
     },
     "metadata": {
      "needs_background": "light"
     },
     "output_type": "display_data"
    }
   ],
   "source": [
    "lgb.plot_importance(model_lgbm)\n",
    "plt.rcParams['figure.figsize'] = [22, 6]\n",
    "plt.show()"
   ]
  },
  {
   "cell_type": "markdown",
   "id": "481434a3",
   "metadata": {},
   "source": [
    "# Evaluate model on test set"
   ]
  },
  {
   "cell_type": "markdown",
   "id": "9c1b167d",
   "metadata": {},
   "source": [
    "Given the results, LightGBM has the highest F1-Score. Now we test the model performance on the unseen test dataset."
   ]
  },
  {
   "cell_type": "code",
   "execution_count": 132,
   "id": "5b39e1df",
   "metadata": {},
   "outputs": [],
   "source": [
    "best_model = model_lgbm"
   ]
  },
  {
   "cell_type": "markdown",
   "id": "a7b5a5a5",
   "metadata": {},
   "source": [
    "#### Class Predictor Error"
   ]
  },
  {
   "cell_type": "code",
   "execution_count": 133,
   "id": "86d59462",
   "metadata": {},
   "outputs": [
    {
     "data": {
      "image/png": "[encoded data removed]",
      "text/plain": [
       "<Figure size 720x360 with 1 Axes>"
      ]
     },
     "metadata": {
      "needs_background": "light"
     },
     "output_type": "display_data"
    },
    {
     "data": {
      "text/plain": [
       "<AxesSubplot:title={'center':'Class Prediction Error for LGBMClassifier'}, xlabel='actual class', ylabel='number of predicted class'>"
      ]
     },
     "execution_count": 133,
     "metadata": {},
     "output_type": "execute_result"
    }
   ],
   "source": [
    "import matplotlib\n",
    "matplotlib.rcParams['figure.figsize'] = (10,5)\n",
    "\n",
    "from yellowbrick.classifier import ClassPredictionError\n",
    "\n",
    "classes = [\"0\", \"1\"]\n",
    "\n",
    "visualizer = ClassPredictionError(\n",
    "    best_model, classes=classes, is_fitted=True\n",
    ")\n",
    "\n",
    "# Fit the training data to the visualizer\n",
    "visualizer.fit(X_train, y_train)\n",
    "\n",
    "# Evaluate the model on the test data\n",
    "visualizer.score(X_test, y_test)\n",
    "\n",
    "# Draw visualization\n",
    "visualizer.show()"
   ]
  },
  {
   "cell_type": "markdown",
   "id": "102e0822",
   "metadata": {},
   "source": [
    "#### Classification Report"
   ]
  },
  {
   "cell_type": "code",
   "execution_count": 134,
   "id": "2fe6e8f6",
   "metadata": {},
   "outputs": [
    {
     "data": {
      "image/png": "[encoded data removed]",
      "text/plain": [
       "<Figure size 720x360 with 2 Axes>"
      ]
     },
     "metadata": {
      "needs_background": "light"
     },
     "output_type": "display_data"
    },
    {
     "data": {
      "text/plain": [
       "<AxesSubplot:title={'center':'LGBMClassifier Classification Report'}>"
      ]
     },
     "execution_count": 134,
     "metadata": {},
     "output_type": "execute_result"
    }
   ],
   "source": [
    "from yellowbrick.classifier import ClassificationReport\n",
    "\n",
    "visualizer = ClassificationReport(\n",
    "    best_model, classes=classes, support=True, is_fitted=True\n",
    ")\n",
    "\n",
    "visualizer.fit(X_train, y_train)        # Fit the visualizer and the model\n",
    "visualizer.score(X_test, y_test)        # Evaluate the model on the test data\n",
    "visualizer.show()                       # Finalize and show the figure"
   ]
  },
  {
   "cell_type": "markdown",
   "id": "5beb642f",
   "metadata": {},
   "source": [
    "#### Confusion Matrix"
   ]
  },
  {
   "cell_type": "code",
   "execution_count": 135,
   "id": "355dbf6b",
   "metadata": {},
   "outputs": [
    {
     "data": {
      "image/png": "[encoded data removed]",
      "text/plain": [
       "<Figure size 360x360 with 1 Axes>"
      ]
     },
     "metadata": {
      "needs_background": "light"
     },
     "output_type": "display_data"
    },
    {
     "data": {
      "text/plain": [
       "<AxesSubplot:title={'center':'LGBMClassifier Confusion Matrix'}, xlabel='Predicted Class', ylabel='True Class'>"
      ]
     },
     "execution_count": 135,
     "metadata": {},
     "output_type": "execute_result"
    }
   ],
   "source": [
    "from yellowbrick.classifier import confusion_matrix, ConfusionMatrix\n",
    "matplotlib.rcParams['figure.figsize'] = (5,5)\n",
    "\n",
    "# The ConfusionMatrix visualizer taxes a model\n",
    "cm = ConfusionMatrix(best_model, classes=[0,1], is_fitted=True)\n",
    "\n",
    "# Fit fits the passed model. This is unnecessary if you pass the visualizer a pre-fitted model\n",
    "cm.fit(X_train, y_train)\n",
    "\n",
    "# To create the ConfusionMatrix, we need some test data. Score runs predict() on the data\n",
    "# and then creates the confusion_matrix from scikit-learn.\n",
    "cm.score(X_test, y_test)\n",
    "\n",
    "# How did we do?\n",
    "cm.show()"
   ]
  },
  {
   "cell_type": "markdown",
   "id": "7924eb44",
   "metadata": {},
   "source": [
    "#### PR Curve"
   ]
  },
  {
   "cell_type": "code",
   "execution_count": 136,
   "id": "76b8c954",
   "metadata": {},
   "outputs": [
    {
     "data": {
      "image/png": "[encoded data removed]",
      "text/plain": [
       "<Figure size 720x360 with 1 Axes>"
      ]
     },
     "metadata": {
      "needs_background": "light"
     },
     "output_type": "display_data"
    },
    {
     "data": {
      "text/plain": [
       "<AxesSubplot:title={'center':'Precision-Recall Curve for LGBMClassifier'}, xlabel='Recall', ylabel='Precision'>"
      ]
     },
     "execution_count": 136,
     "metadata": {},
     "output_type": "execute_result"
    }
   ],
   "source": [
    "from yellowbrick.classifier import PrecisionRecallCurve\n",
    "matplotlib.rcParams['figure.figsize'] = (10,5)\n",
    "\n",
    "# Create the visualizer, fit, score, and show it\n",
    "viz = PrecisionRecallCurve(best_model, is_fitted=True)\n",
    "viz.fit(X_train, y_train)\n",
    "viz.score(X_test, y_test)\n",
    "viz.show()"
   ]
  },
  {
   "cell_type": "markdown",
   "id": "2e937283",
   "metadata": {},
   "source": [
    "#### ROC-AUC"
   ]
  },
  {
   "cell_type": "code",
   "execution_count": 137,
   "id": "1c1c6479",
   "metadata": {},
   "outputs": [
    {
     "data": {
      "image/png": "[encoded data removed]",
      "text/plain": [
       "<Figure size 720x360 with 1 Axes>"
      ]
     },
     "metadata": {
      "needs_background": "light"
     },
     "output_type": "display_data"
    },
    {
     "data": {
      "text/plain": [
       "<AxesSubplot:title={'center':'ROC Curves for LGBMClassifier'}, xlabel='False Positive Rate', ylabel='True Positive Rate'>"
      ]
     },
     "execution_count": 137,
     "metadata": {},
     "output_type": "execute_result"
    }
   ],
   "source": [
    "visualizer = ROCAUC(\n",
    "    best_model, classes=classes, is_fitted=True\n",
    ")\n",
    "\n",
    "visualizer.fit(X_train, y_train)        # Fit the training data to the visualizer\n",
    "visualizer.score(X_test, y_test)        # Evaluate the model on the test data\n",
    "visualizer.show()                       # Finalize and show the figure"
   ]
  },
  {
   "cell_type": "code",
   "execution_count": null,
   "id": "4adf7126",
   "metadata": {},
   "outputs": [],
   "source": []
  }
 ],
 "metadata": {
  "kernelspec": {
   "display_name": "Python 3",
   "language": "python",
   "name": "python3"
  },
  "language_info": {
   "codemirror_mode": {
    "name": "ipython",
    "version": 3
   },
   "file_extension": ".py",
   "mimetype": "text/x-python",
   "name": "python",
   "nbconvert_exporter": "python",
   "pygments_lexer": "ipython3",
   "version": "3.8.5"
  }
 },
 "nbformat": 4,
 "nbformat_minor": 5
}
