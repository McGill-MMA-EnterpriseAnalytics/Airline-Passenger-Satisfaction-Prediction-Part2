{
 "cells": [
  {
   "cell_type": "code",
   "execution_count": 1,
   "id": "5124b6b4",
   "metadata": {},
   "outputs": [],
   "source": [
    "import numpy as np\n",
    "import pandas as pd\n",
    "from IPython.display import Markdown, display\n",
    "\n",
    "%matplotlib inline\n",
    "import matplotlib.pyplot as plt\n",
    "import seaborn as sns\n",
    "from seaborn import diverging_palette\n",
    "\n",
    "import sklearn\n",
    "from sklearn.exceptions import ConvergenceWarning\n",
    "from sklearn.preprocessing import StandardScaler\n",
    "from sklearn.neural_network import MLPClassifier\n",
    "from sklearn.semi_supervised import LabelPropagation, LabelSpreading\n",
    "\n",
    "from sklearn.linear_model import (\n",
    "    LogisticRegression,\n",
    "    Lasso\n",
    ")\n",
    "\n",
    "from sklearn.ensemble import (\n",
    "    RandomForestClassifier,\n",
    "    AdaBoostClassifier\n",
    ")\n",
    "\n",
    "from sklearn.model_selection import (\n",
    "    train_test_split,\n",
    "    cross_val_score,\n",
    "    cross_val_predict,\n",
    "    RepeatedStratifiedKFold,\n",
    "    GridSearchCV,\n",
    "    KFold,\n",
    "    StratifiedKFold\n",
    ")\n",
    "\n",
    "from sklearn.metrics import (\n",
    "    accuracy_score, \n",
    "    precision_score, average_precision_score,\n",
    "    precision_recall_curve,\n",
    "    confusion_matrix, plot_confusion_matrix,\n",
    "    roc_curve, roc_auc_score,\n",
    "    classification_report,\n",
    "    make_scorer, fbeta_score\n",
    ")\n",
    "\n",
    "import lightgbm as lgb\n",
    "from lightgbm import LGBMClassifier, plot_importance\n",
    "\n",
    "from yellowbrick.classifier import (\n",
    "    ConfusionMatrix,\n",
    "    ROCAUC\n",
    ")\n",
    "from yellowbrick.model_selection import LearningCurve\n",
    "\n",
    "import warnings\n",
    "from warnings import simplefilter\n",
    "warnings.filterwarnings(\"ignore\")\n",
    "simplefilter(\"ignore\", category=ConvergenceWarning)"
   ]
  },
  {
   "cell_type": "markdown",
   "id": "84b5f526",
   "metadata": {},
   "source": [
    "# Load Dataset into DataFrame"
   ]
  },
  {
   "cell_type": "code",
   "execution_count": 2,
   "id": "889ab346",
   "metadata": {
    "scrolled": false
   },
   "outputs": [
    {
     "data": {
      "text/html": [
       "<div>\n",
       "<style scoped>\n",
       "    .dataframe tbody tr th:only-of-type {\n",
       "        vertical-align: middle;\n",
       "    }\n",
       "\n",
       "    .dataframe tbody tr th {\n",
       "        vertical-align: top;\n",
       "    }\n",
       "\n",
       "    .dataframe thead th {\n",
       "        text-align: right;\n",
       "    }\n",
       "</style>\n",
       "<table border=\"1\" class=\"dataframe\">\n",
       "  <thead>\n",
       "    <tr style=\"text-align: right;\">\n",
       "      <th></th>\n",
       "      <th>Age</th>\n",
       "      <th>Class</th>\n",
       "      <th>Flight_Distance</th>\n",
       "      <th>Inflight_wifi_service</th>\n",
       "      <th>Departure/Arrival_time_convenient</th>\n",
       "      <th>Ease_of_Online_booking</th>\n",
       "      <th>Gate_location</th>\n",
       "      <th>Food_and_drink</th>\n",
       "      <th>Online_boarding</th>\n",
       "      <th>Seat_comfort</th>\n",
       "      <th>...</th>\n",
       "      <th>Leg_room_service</th>\n",
       "      <th>Baggage_handling</th>\n",
       "      <th>Checkin_service</th>\n",
       "      <th>Inflight_service</th>\n",
       "      <th>Cleanliness</th>\n",
       "      <th>Departure_Delay_in_Minutes</th>\n",
       "      <th>satisfaction</th>\n",
       "      <th>Gender_Male</th>\n",
       "      <th>Customer_Type_Loyal Customer</th>\n",
       "      <th>Type_of_Travel_Business travel</th>\n",
       "    </tr>\n",
       "  </thead>\n",
       "  <tbody>\n",
       "    <tr>\n",
       "      <th>0</th>\n",
       "      <td>26.0</td>\n",
       "      <td>0.0</td>\n",
       "      <td>1142.0</td>\n",
       "      <td>2.0</td>\n",
       "      <td>2.0</td>\n",
       "      <td>2.0</td>\n",
       "      <td>2.0</td>\n",
       "      <td>5.0</td>\n",
       "      <td>5.0</td>\n",
       "      <td>5.0</td>\n",
       "      <td>...</td>\n",
       "      <td>3.0</td>\n",
       "      <td>4.0</td>\n",
       "      <td>4.0</td>\n",
       "      <td>4.0</td>\n",
       "      <td>5.0</td>\n",
       "      <td>0.0</td>\n",
       "      <td>1.0</td>\n",
       "      <td>0.0</td>\n",
       "      <td>1.0</td>\n",
       "      <td>1.0</td>\n",
       "    </tr>\n",
       "    <tr>\n",
       "      <th>1</th>\n",
       "      <td>61.0</td>\n",
       "      <td>0.0</td>\n",
       "      <td>214.0</td>\n",
       "      <td>3.0</td>\n",
       "      <td>3.0</td>\n",
       "      <td>3.0</td>\n",
       "      <td>3.0</td>\n",
       "      <td>4.0</td>\n",
       "      <td>5.0</td>\n",
       "      <td>5.0</td>\n",
       "      <td>...</td>\n",
       "      <td>4.0</td>\n",
       "      <td>4.0</td>\n",
       "      <td>3.0</td>\n",
       "      <td>3.0</td>\n",
       "      <td>3.0</td>\n",
       "      <td>0.0</td>\n",
       "      <td>1.0</td>\n",
       "      <td>1.0</td>\n",
       "      <td>1.0</td>\n",
       "      <td>1.0</td>\n",
       "    </tr>\n",
       "    <tr>\n",
       "      <th>2</th>\n",
       "      <td>47.0</td>\n",
       "      <td>2.0</td>\n",
       "      <td>1276.0</td>\n",
       "      <td>2.0</td>\n",
       "      <td>4.0</td>\n",
       "      <td>2.0</td>\n",
       "      <td>3.0</td>\n",
       "      <td>2.0</td>\n",
       "      <td>2.0</td>\n",
       "      <td>2.0</td>\n",
       "      <td>...</td>\n",
       "      <td>3.0</td>\n",
       "      <td>4.0</td>\n",
       "      <td>3.0</td>\n",
       "      <td>5.0</td>\n",
       "      <td>2.0</td>\n",
       "      <td>9.0</td>\n",
       "      <td>0.0</td>\n",
       "      <td>1.0</td>\n",
       "      <td>1.0</td>\n",
       "      <td>0.0</td>\n",
       "    </tr>\n",
       "    <tr>\n",
       "      <th>3</th>\n",
       "      <td>52.0</td>\n",
       "      <td>0.0</td>\n",
       "      <td>2035.0</td>\n",
       "      <td>4.0</td>\n",
       "      <td>3.0</td>\n",
       "      <td>4.0</td>\n",
       "      <td>4.0</td>\n",
       "      <td>5.0</td>\n",
       "      <td>5.0</td>\n",
       "      <td>5.0</td>\n",
       "      <td>...</td>\n",
       "      <td>5.0</td>\n",
       "      <td>5.0</td>\n",
       "      <td>4.0</td>\n",
       "      <td>5.0</td>\n",
       "      <td>4.0</td>\n",
       "      <td>4.0</td>\n",
       "      <td>1.0</td>\n",
       "      <td>0.0</td>\n",
       "      <td>1.0</td>\n",
       "      <td>1.0</td>\n",
       "    </tr>\n",
       "    <tr>\n",
       "      <th>4</th>\n",
       "      <td>20.0</td>\n",
       "      <td>2.0</td>\n",
       "      <td>1061.0</td>\n",
       "      <td>3.0</td>\n",
       "      <td>3.0</td>\n",
       "      <td>3.0</td>\n",
       "      <td>4.0</td>\n",
       "      <td>2.0</td>\n",
       "      <td>3.0</td>\n",
       "      <td>3.0</td>\n",
       "      <td>...</td>\n",
       "      <td>3.0</td>\n",
       "      <td>4.0</td>\n",
       "      <td>4.0</td>\n",
       "      <td>3.0</td>\n",
       "      <td>2.0</td>\n",
       "      <td>0.0</td>\n",
       "      <td>0.0</td>\n",
       "      <td>1.0</td>\n",
       "      <td>0.0</td>\n",
       "      <td>1.0</td>\n",
       "    </tr>\n",
       "    <tr>\n",
       "      <th>...</th>\n",
       "      <td>...</td>\n",
       "      <td>...</td>\n",
       "      <td>...</td>\n",
       "      <td>...</td>\n",
       "      <td>...</td>\n",
       "      <td>...</td>\n",
       "      <td>...</td>\n",
       "      <td>...</td>\n",
       "      <td>...</td>\n",
       "      <td>...</td>\n",
       "      <td>...</td>\n",
       "      <td>...</td>\n",
       "      <td>...</td>\n",
       "      <td>...</td>\n",
       "      <td>...</td>\n",
       "      <td>...</td>\n",
       "      <td>...</td>\n",
       "      <td>...</td>\n",
       "      <td>...</td>\n",
       "      <td>...</td>\n",
       "      <td>...</td>\n",
       "    </tr>\n",
       "    <tr>\n",
       "      <th>43954</th>\n",
       "      <td>26.0</td>\n",
       "      <td>0.0</td>\n",
       "      <td>712.0</td>\n",
       "      <td>4.0</td>\n",
       "      <td>4.0</td>\n",
       "      <td>4.0</td>\n",
       "      <td>4.0</td>\n",
       "      <td>5.0</td>\n",
       "      <td>5.0</td>\n",
       "      <td>5.0</td>\n",
       "      <td>...</td>\n",
       "      <td>4.0</td>\n",
       "      <td>4.0</td>\n",
       "      <td>3.0</td>\n",
       "      <td>4.0</td>\n",
       "      <td>5.0</td>\n",
       "      <td>17.0</td>\n",
       "      <td>1.0</td>\n",
       "      <td>1.0</td>\n",
       "      <td>1.0</td>\n",
       "      <td>1.0</td>\n",
       "    </tr>\n",
       "    <tr>\n",
       "      <th>43955</th>\n",
       "      <td>57.0</td>\n",
       "      <td>2.0</td>\n",
       "      <td>867.0</td>\n",
       "      <td>4.0</td>\n",
       "      <td>5.0</td>\n",
       "      <td>5.0</td>\n",
       "      <td>5.0</td>\n",
       "      <td>4.0</td>\n",
       "      <td>4.0</td>\n",
       "      <td>4.0</td>\n",
       "      <td>...</td>\n",
       "      <td>4.0</td>\n",
       "      <td>3.0</td>\n",
       "      <td>1.0</td>\n",
       "      <td>3.0</td>\n",
       "      <td>4.0</td>\n",
       "      <td>0.0</td>\n",
       "      <td>0.0</td>\n",
       "      <td>1.0</td>\n",
       "      <td>1.0</td>\n",
       "      <td>1.0</td>\n",
       "    </tr>\n",
       "    <tr>\n",
       "      <th>43956</th>\n",
       "      <td>60.0</td>\n",
       "      <td>0.0</td>\n",
       "      <td>1599.0</td>\n",
       "      <td>5.0</td>\n",
       "      <td>5.0</td>\n",
       "      <td>5.0</td>\n",
       "      <td>5.0</td>\n",
       "      <td>5.0</td>\n",
       "      <td>5.0</td>\n",
       "      <td>4.0</td>\n",
       "      <td>...</td>\n",
       "      <td>4.0</td>\n",
       "      <td>4.0</td>\n",
       "      <td>4.0</td>\n",
       "      <td>4.0</td>\n",
       "      <td>4.0</td>\n",
       "      <td>9.0</td>\n",
       "      <td>1.0</td>\n",
       "      <td>0.0</td>\n",
       "      <td>1.0</td>\n",
       "      <td>1.0</td>\n",
       "    </tr>\n",
       "    <tr>\n",
       "      <th>43957</th>\n",
       "      <td>50.0</td>\n",
       "      <td>2.0</td>\n",
       "      <td>1620.0</td>\n",
       "      <td>3.0</td>\n",
       "      <td>1.0</td>\n",
       "      <td>3.0</td>\n",
       "      <td>4.0</td>\n",
       "      <td>2.0</td>\n",
       "      <td>3.0</td>\n",
       "      <td>2.0</td>\n",
       "      <td>...</td>\n",
       "      <td>3.0</td>\n",
       "      <td>4.0</td>\n",
       "      <td>2.0</td>\n",
       "      <td>4.0</td>\n",
       "      <td>2.0</td>\n",
       "      <td>0.0</td>\n",
       "      <td>0.0</td>\n",
       "      <td>1.0</td>\n",
       "      <td>1.0</td>\n",
       "      <td>0.0</td>\n",
       "    </tr>\n",
       "    <tr>\n",
       "      <th>43958</th>\n",
       "      <td>49.0</td>\n",
       "      <td>0.0</td>\n",
       "      <td>2347.0</td>\n",
       "      <td>4.0</td>\n",
       "      <td>4.0</td>\n",
       "      <td>4.0</td>\n",
       "      <td>4.0</td>\n",
       "      <td>2.0</td>\n",
       "      <td>4.0</td>\n",
       "      <td>5.0</td>\n",
       "      <td>...</td>\n",
       "      <td>5.0</td>\n",
       "      <td>5.0</td>\n",
       "      <td>5.0</td>\n",
       "      <td>5.0</td>\n",
       "      <td>4.0</td>\n",
       "      <td>0.0</td>\n",
       "      <td>1.0</td>\n",
       "      <td>1.0</td>\n",
       "      <td>1.0</td>\n",
       "      <td>1.0</td>\n",
       "    </tr>\n",
       "  </tbody>\n",
       "</table>\n",
       "<p>43959 rows × 22 columns</p>\n",
       "</div>"
      ],
      "text/plain": [
       "        Age  Class  Flight_Distance  Inflight_wifi_service  \\\n",
       "0      26.0    0.0           1142.0                    2.0   \n",
       "1      61.0    0.0            214.0                    3.0   \n",
       "2      47.0    2.0           1276.0                    2.0   \n",
       "3      52.0    0.0           2035.0                    4.0   \n",
       "4      20.0    2.0           1061.0                    3.0   \n",
       "...     ...    ...              ...                    ...   \n",
       "43954  26.0    0.0            712.0                    4.0   \n",
       "43955  57.0    2.0            867.0                    4.0   \n",
       "43956  60.0    0.0           1599.0                    5.0   \n",
       "43957  50.0    2.0           1620.0                    3.0   \n",
       "43958  49.0    0.0           2347.0                    4.0   \n",
       "\n",
       "       Departure/Arrival_time_convenient  Ease_of_Online_booking  \\\n",
       "0                                    2.0                     2.0   \n",
       "1                                    3.0                     3.0   \n",
       "2                                    4.0                     2.0   \n",
       "3                                    3.0                     4.0   \n",
       "4                                    3.0                     3.0   \n",
       "...                                  ...                     ...   \n",
       "43954                                4.0                     4.0   \n",
       "43955                                5.0                     5.0   \n",
       "43956                                5.0                     5.0   \n",
       "43957                                1.0                     3.0   \n",
       "43958                                4.0                     4.0   \n",
       "\n",
       "       Gate_location  Food_and_drink  Online_boarding  Seat_comfort  ...  \\\n",
       "0                2.0             5.0              5.0           5.0  ...   \n",
       "1                3.0             4.0              5.0           5.0  ...   \n",
       "2                3.0             2.0              2.0           2.0  ...   \n",
       "3                4.0             5.0              5.0           5.0  ...   \n",
       "4                4.0             2.0              3.0           3.0  ...   \n",
       "...              ...             ...              ...           ...  ...   \n",
       "43954            4.0             5.0              5.0           5.0  ...   \n",
       "43955            5.0             4.0              4.0           4.0  ...   \n",
       "43956            5.0             5.0              5.0           4.0  ...   \n",
       "43957            4.0             2.0              3.0           2.0  ...   \n",
       "43958            4.0             2.0              4.0           5.0  ...   \n",
       "\n",
       "       Leg_room_service  Baggage_handling  Checkin_service  Inflight_service  \\\n",
       "0                   3.0               4.0              4.0               4.0   \n",
       "1                   4.0               4.0              3.0               3.0   \n",
       "2                   3.0               4.0              3.0               5.0   \n",
       "3                   5.0               5.0              4.0               5.0   \n",
       "4                   3.0               4.0              4.0               3.0   \n",
       "...                 ...               ...              ...               ...   \n",
       "43954               4.0               4.0              3.0               4.0   \n",
       "43955               4.0               3.0              1.0               3.0   \n",
       "43956               4.0               4.0              4.0               4.0   \n",
       "43957               3.0               4.0              2.0               4.0   \n",
       "43958               5.0               5.0              5.0               5.0   \n",
       "\n",
       "       Cleanliness  Departure_Delay_in_Minutes  satisfaction  Gender_Male  \\\n",
       "0              5.0                         0.0           1.0          0.0   \n",
       "1              3.0                         0.0           1.0          1.0   \n",
       "2              2.0                         9.0           0.0          1.0   \n",
       "3              4.0                         4.0           1.0          0.0   \n",
       "4              2.0                         0.0           0.0          1.0   \n",
       "...            ...                         ...           ...          ...   \n",
       "43954          5.0                        17.0           1.0          1.0   \n",
       "43955          4.0                         0.0           0.0          1.0   \n",
       "43956          4.0                         9.0           1.0          0.0   \n",
       "43957          2.0                         0.0           0.0          1.0   \n",
       "43958          4.0                         0.0           1.0          1.0   \n",
       "\n",
       "       Customer_Type_Loyal Customer  Type_of_Travel_Business travel  \n",
       "0                               1.0                             1.0  \n",
       "1                               1.0                             1.0  \n",
       "2                               1.0                             0.0  \n",
       "3                               1.0                             1.0  \n",
       "4                               0.0                             1.0  \n",
       "...                             ...                             ...  \n",
       "43954                           1.0                             1.0  \n",
       "43955                           1.0                             1.0  \n",
       "43956                           1.0                             1.0  \n",
       "43957                           1.0                             0.0  \n",
       "43958                           1.0                             1.0  \n",
       "\n",
       "[43959 rows x 22 columns]"
      ]
     },
     "execution_count": 2,
     "metadata": {},
     "output_type": "execute_result"
    }
   ],
   "source": [
    "url = 'https://raw.githubusercontent.com/McGill-MMA-EnterpriseAnalytics/Airline-Passenger-Satisfaction-Prediction/main/Data/df5.csv'\n",
    "data = pd.read_csv(url)\n",
    "data"
   ]
  },
  {
   "cell_type": "markdown",
   "id": "68bc2905",
   "metadata": {},
   "source": [
    "# Data Preparation"
   ]
  },
  {
   "cell_type": "markdown",
   "id": "272a2504",
   "metadata": {},
   "source": [
    "## Standardization of numeric variables"
   ]
  },
  {
   "cell_type": "code",
   "execution_count": 3,
   "id": "610e2a95",
   "metadata": {},
   "outputs": [],
   "source": [
    "numeric_cols = ['Age', 'Flight_Distance','Departure_Delay_in_Minutes']\n",
    "scaler = StandardScaler()\n",
    "data[numeric_cols] = scaler.fit_transform(data[numeric_cols])"
   ]
  },
  {
   "cell_type": "markdown",
   "id": "4da7509e",
   "metadata": {},
   "source": [
    "## Handling Missing values\n",
    "\n",
    "The satisfaction level of each feature should range from 1 to 5. \n",
    "\n",
    "If the rating is 0, that means the customer did not rate for this feature.\n"
   ]
  },
  {
   "cell_type": "code",
   "execution_count": 4,
   "id": "5bda5eb3",
   "metadata": {},
   "outputs": [],
   "source": [
    "def list_column_values(df, number_of_values, print_all):\n",
    "    display(Markdown('**Results:**' ))\n",
    "    for col in df.columns[0:]:\n",
    "        if df[col].nunique() <= number_of_values:\n",
    "            print(f\"{col.ljust(25)}\" +  ' ==> ' + str(df[col].sort_values().unique().tolist()) )\n",
    "        else:  \n",
    "            if print_all=='True':\n",
    "               print(f\"{col.ljust(25)}\" + ' ==> more than ' + str(number_of_values) + ' values')"
   ]
  },
  {
   "cell_type": "code",
   "execution_count": 5,
   "id": "35de1bb2",
   "metadata": {},
   "outputs": [
    {
     "data": {
      "text/markdown": [
       "**Results:**"
      ],
      "text/plain": [
       "<IPython.core.display.Markdown object>"
      ]
     },
     "metadata": {},
     "output_type": "display_data"
    },
    {
     "name": "stdout",
     "output_type": "stream",
     "text": [
      "Age                       ==> more than 22 values\n",
      "Class                     ==> [0.0, 1.0, 2.0]\n",
      "Flight_Distance           ==> more than 22 values\n",
      "Inflight_wifi_service     ==> [0.0, 1.0, 2.0, 3.0, 4.0, 5.0]\n",
      "Departure/Arrival_time_convenient ==> [0.0, 1.0, 2.0, 3.0, 4.0, 5.0]\n",
      "Ease_of_Online_booking    ==> [0.0, 1.0, 2.0, 3.0, 4.0, 5.0]\n",
      "Gate_location             ==> [1.0, 2.0, 3.0, 4.0, 5.0]\n",
      "Food_and_drink            ==> [1.0, 2.0, 3.0, 4.0, 5.0]\n",
      "Online_boarding           ==> [0.0, 1.0, 2.0, 3.0, 4.0, 5.0]\n",
      "Seat_comfort              ==> [1.0, 2.0, 3.0, 4.0, 5.0]\n",
      "Inflight_entertainment    ==> [1.0, 2.0, 3.0, 4.0, 5.0]\n",
      "On-board_service          ==> [1.0, 2.0, 3.0, 4.0, 5.0]\n",
      "Leg_room_service          ==> [0.0, 1.0, 2.0, 3.0, 4.0, 5.0]\n",
      "Baggage_handling          ==> [1.0, 2.0, 3.0, 4.0, 5.0]\n",
      "Checkin_service           ==> [1.0, 2.0, 3.0, 4.0, 5.0]\n",
      "Inflight_service          ==> [1.0, 2.0, 3.0, 4.0, 5.0]\n",
      "Cleanliness               ==> [1.0, 2.0, 3.0, 4.0, 5.0]\n",
      "Departure_Delay_in_Minutes ==> more than 22 values\n",
      "satisfaction              ==> [0.0, 1.0]\n",
      "Gender_Male               ==> [0.0, 1.0]\n",
      "Customer_Type_Loyal Customer ==> [0.0, 1.0]\n",
      "Type_of_Travel_Business travel ==> [0.0, 1.0]\n"
     ]
    }
   ],
   "source": [
    "list_column_values(data, data.shape[1],'True')"
   ]
  },
  {
   "cell_type": "code",
   "execution_count": 6,
   "id": "4346b8c5",
   "metadata": {},
   "outputs": [
    {
     "data": {
      "text/plain": [
       "Inflight_wifi_service                 67\n",
       "Departure/Arrival_time_convenient    134\n",
       "Ease_of_Online_booking                58\n",
       "Online_boarding                       16\n",
       "Leg_room_service                       1\n",
       "dtype: int64"
      ]
     },
     "execution_count": 6,
     "metadata": {},
     "output_type": "execute_result"
    }
   ],
   "source": [
    "incomplete = ['Inflight_wifi_service','Departure/Arrival_time_convenient',\n",
    "              'Ease_of_Online_booking','Online_boarding','Leg_room_service']\n",
    "(data[incomplete] == 0).sum()"
   ]
  },
  {
   "cell_type": "code",
   "execution_count": 7,
   "id": "6d2b2cf0",
   "metadata": {},
   "outputs": [
    {
     "data": {
      "text/plain": [
       "0.00627857776564526"
      ]
     },
     "execution_count": 7,
     "metadata": {},
     "output_type": "execute_result"
    }
   ],
   "source": [
    "(data[incomplete] == 0).sum().sum()/data.shape[0]"
   ]
  },
  {
   "cell_type": "markdown",
   "id": "7bc116a3",
   "metadata": {},
   "source": [
    "We should consider rating=0 as missing values as the customer did not provide any rating feedback.\n",
    "\n",
    "Considering the total number of rows that contains missing ratings only takes up 0.6% of the dataset, we simply drop these observations."
   ]
  },
  {
   "cell_type": "code",
   "execution_count": 8,
   "id": "4142d549",
   "metadata": {},
   "outputs": [
    {
     "data": {
      "text/markdown": [
       "**Results:**"
      ],
      "text/plain": [
       "<IPython.core.display.Markdown object>"
      ]
     },
     "metadata": {},
     "output_type": "display_data"
    },
    {
     "name": "stdout",
     "output_type": "stream",
     "text": [
      "Age                       ==> more than 22 values\n",
      "Class                     ==> [0.0, 1.0, 2.0]\n",
      "Flight_Distance           ==> more than 22 values\n",
      "Inflight_wifi_service     ==> [1.0, 2.0, 3.0, 4.0, 5.0]\n",
      "Departure/Arrival_time_convenient ==> [1.0, 2.0, 3.0, 4.0, 5.0]\n",
      "Ease_of_Online_booking    ==> [1.0, 2.0, 3.0, 4.0, 5.0]\n",
      "Gate_location             ==> [1.0, 2.0, 3.0, 4.0, 5.0]\n",
      "Food_and_drink            ==> [1.0, 2.0, 3.0, 4.0, 5.0]\n",
      "Online_boarding           ==> [1.0, 2.0, 3.0, 4.0, 5.0]\n",
      "Seat_comfort              ==> [1.0, 2.0, 3.0, 4.0, 5.0]\n",
      "Inflight_entertainment    ==> [1.0, 2.0, 3.0, 4.0, 5.0]\n",
      "On-board_service          ==> [1.0, 2.0, 3.0, 4.0, 5.0]\n",
      "Leg_room_service          ==> [1.0, 2.0, 3.0, 4.0, 5.0]\n",
      "Baggage_handling          ==> [1.0, 2.0, 3.0, 4.0, 5.0]\n",
      "Checkin_service           ==> [1.0, 2.0, 3.0, 4.0, 5.0]\n",
      "Inflight_service          ==> [1.0, 2.0, 3.0, 4.0, 5.0]\n",
      "Cleanliness               ==> [1.0, 2.0, 3.0, 4.0, 5.0]\n",
      "Departure_Delay_in_Minutes ==> more than 22 values\n",
      "satisfaction              ==> [0.0, 1.0]\n",
      "Gender_Male               ==> [0.0, 1.0]\n",
      "Customer_Type_Loyal Customer ==> [0.0, 1.0]\n",
      "Type_of_Travel_Business travel ==> [0.0, 1.0]\n"
     ]
    }
   ],
   "source": [
    "data = data.loc[(data[incomplete] != 0).all(axis=1)]\n",
    "\n",
    "list_column_values(data, data.shape[1],'True')"
   ]
  },
  {
   "cell_type": "code",
   "execution_count": 9,
   "id": "1e95725b",
   "metadata": {},
   "outputs": [
    {
     "data": {
      "text/plain": [
       "(43756, 22)"
      ]
     },
     "execution_count": 9,
     "metadata": {},
     "output_type": "execute_result"
    }
   ],
   "source": [
    "data.shape"
   ]
  },
  {
   "cell_type": "markdown",
   "id": "b4db6c49",
   "metadata": {},
   "source": [
    "# Splitting the Dataset"
   ]
  },
  {
   "cell_type": "markdown",
   "id": "4336ffd8",
   "metadata": {},
   "source": [
    "Identify features and target"
   ]
  },
  {
   "cell_type": "code",
   "execution_count": 10,
   "id": "2e362646",
   "metadata": {},
   "outputs": [],
   "source": [
    "X = data.drop(columns=['satisfaction'])\n",
    "y = data['satisfaction']"
   ]
  },
  {
   "cell_type": "markdown",
   "id": "c44f43f7",
   "metadata": {},
   "source": [
    "## Train Test Split"
   ]
  },
  {
   "cell_type": "code",
   "execution_count": 11,
   "id": "8f58f380",
   "metadata": {},
   "outputs": [
    {
     "data": {
      "text/plain": [
       "(35004, 8752)"
      ]
     },
     "execution_count": 11,
     "metadata": {},
     "output_type": "execute_result"
    }
   ],
   "source": [
    "X_train, X_val_test, y_train, y_val_test = train_test_split(X, y, test_size = 0.2, random_state = 777)\n",
    "\n",
    "N_train, _ = X_train.shape \n",
    "N_val_test,  _ = X_val_test.shape \n",
    "\n",
    "N_train, N_val_test"
   ]
  },
  {
   "cell_type": "markdown",
   "id": "4a19a1cb",
   "metadata": {},
   "source": [
    "## Test Validation Split"
   ]
  },
  {
   "cell_type": "code",
   "execution_count": 12,
   "id": "df88018f",
   "metadata": {},
   "outputs": [
    {
     "data": {
      "text/plain": [
       "(4376, 4376)"
      ]
     },
     "execution_count": 12,
     "metadata": {},
     "output_type": "execute_result"
    }
   ],
   "source": [
    "X_val, X_test, y_val, y_test = train_test_split(X_val_test, y_val_test, test_size = 0.5, random_state = 777)\n",
    "\n",
    "N_val, _ = X_val.shape \n",
    "N_test,  _ = X_test.shape \n",
    "\n",
    "N_val, N_test"
   ]
  },
  {
   "cell_type": "code",
   "execution_count": 13,
   "id": "35f060cb",
   "metadata": {},
   "outputs": [
    {
     "data": {
      "text/plain": [
       "Index(['Age', 'Class', 'Flight_Distance', 'Inflight_wifi_service',\n",
       "       'Departure/Arrival_time_convenient', 'Ease_of_Online_booking',\n",
       "       'Gate_location', 'Food_and_drink', 'Online_boarding', 'Seat_comfort',\n",
       "       'Inflight_entertainment', 'On-board_service', 'Leg_room_service',\n",
       "       'Baggage_handling', 'Checkin_service', 'Inflight_service',\n",
       "       'Cleanliness', 'Departure_Delay_in_Minutes', 'satisfaction',\n",
       "       'Gender_Male', 'Customer_Type_Loyal Customer',\n",
       "       'Type_of_Travel_Business travel'],\n",
       "      dtype='object')"
      ]
     },
     "execution_count": 13,
     "metadata": {},
     "output_type": "execute_result"
    }
   ],
   "source": [
    "data.columns"
   ]
  },
  {
   "cell_type": "markdown",
   "id": "2061c833",
   "metadata": {},
   "source": [
    "# Functions for Evaluation Metrics"
   ]
  },
  {
   "cell_type": "markdown",
   "id": "05b72e35",
   "metadata": {},
   "source": [
    "### ROC Curve"
   ]
  },
  {
   "cell_type": "code",
   "execution_count": 14,
   "id": "a59a5016",
   "metadata": {},
   "outputs": [],
   "source": [
    "def plot_roc_curve(fpr, tpr, roc_auc):\n",
    "    plt.title('Receiver Operating Characteristic')\n",
    "    plt.plot(fpr, tpr, 'b', label = 'AUC = %0.2f' % roc_auc)\n",
    "    plt.legend(loc = 'lower right')\n",
    "    plt.plot([0, 1], [0, 1],'r--')\n",
    "    plt.xlim([0, 1])\n",
    "    plt.ylim([0, 1])\n",
    "    plt.ylabel('True Positive Rate')\n",
    "    plt.xlabel('False Positive Rate')\n",
    "    plt.show()"
   ]
  },
  {
   "cell_type": "markdown",
   "id": "04a1ecf1",
   "metadata": {},
   "source": [
    "### PR Curve"
   ]
  },
  {
   "cell_type": "code",
   "execution_count": 15,
   "id": "e774ce0f",
   "metadata": {},
   "outputs": [],
   "source": [
    "def plot_pr_curve(precision, recall, average_precision):\n",
    "    plt.step(recall, precision, color='b', alpha=0.2, where='post')\n",
    "    plt.fill_between(recall, precision, step='post', alpha=0.2, color='b')   \n",
    "    plt.xlabel('Recall')\n",
    "    plt.ylabel('Precision')\n",
    "    plt.ylim([0.0, 1.05])\n",
    "    plt.xlim([0.0, 1.0])\n",
    "    plt.title('2-class Precision-Recall curve: AP={0:0.2f}'.format(average_precision))\n",
    "    plt.show()"
   ]
  },
  {
   "cell_type": "markdown",
   "id": "1939017b",
   "metadata": {},
   "source": [
    "### Classification Score\n",
    "\n",
    "It gets the model and evaluates it for training and validation."
   ]
  },
  {
   "cell_type": "code",
   "execution_count": 16,
   "id": "67012e47",
   "metadata": {},
   "outputs": [],
   "source": [
    "def clf_score(clf, X_train, y_train, X_val, y_val, train=True):\n",
    "    if train:\n",
    "        print(\"Train Result:\\n\")\n",
    "        print(\"accuracy score: {0:.4f}\\n\".format(accuracy_score(y_train, clf.predict(X_train))))\n",
    "        print(\"Classification Report: \\n {}\\n\".format(classification_report(y_train, clf.predict(X_train))))\n",
    "        print(\"Confusion Matrix: \\n {}\\n\".format(confusion_matrix(y_train, clf.predict(X_train))))\n",
    "\n",
    "        res = cross_val_score(clf, X_train, y_train, cv=10, scoring='accuracy')\n",
    "        print(\"Average Accuracy: \\t {0:.4f}\".format(np.mean(res)))\n",
    "        print(\"Accuracy SD: \\t\\t {0:.4f}\".format(np.std(res)))\n",
    "\n",
    "    elif train == False:\n",
    "        print(\"Validation Result:\\n\")\n",
    "        print(\"accuracy score: {0:.4f}\\n\".format(accuracy_score(y_val, clf.predict(X_val))))\n",
    "        \n",
    "        precision, recall, _ = precision_recall_curve(y_val, clf.predict(X_val))\n",
    "        average_precision = average_precision_score(y_val, clf.predict(X_val))\n",
    "        plot_pr_curve(precision, recall, average_precision)\n",
    "        \n",
    "        fpr, tpr, _ = roc_curve(y_val, clf.predict(X_val))\n",
    "        roc_auc = roc_auc_score(y_val, clf.predict(X_val))\n",
    "        print(\"roc auc score: {}\\n\".format(roc_auc))\n",
    "        plot_roc_curve(fpr, tpr, roc_auc)\n",
    "        \n",
    "        print(\"Classification Report: \\n {}\\n\".format(classification_report(y_val, clf.predict(X_val))))\n",
    "        print(\"Confusion Matrix: \\n {}\\n\".format(confusion_matrix(y_val, clf.predict(X_val))))\n",
    "        plot_confusion_matrix(clf,  X_val, clf.predict(X_val))\n",
    "        print(\"End of validation Result\\n\")"
   ]
  },
  {
   "cell_type": "markdown",
   "id": "7db6c624",
   "metadata": {},
   "source": [
    "### Model Results Comparison"
   ]
  },
  {
   "cell_type": "code",
   "execution_count": 17,
   "id": "710850ea",
   "metadata": {},
   "outputs": [],
   "source": [
    "model_comparison = pd.DataFrame(columns=['precision','recall','f1-score','support'])\n",
    "\n",
    "def add_result(model_name, y_actual, y_pred):\n",
    "    global model_comparison\n",
    "\n",
    "    report = classification_report(y_actual, y_pred, output_dict=True)\n",
    "    scores = pd.DataFrame(report['1.0'],index=[model_name])\n",
    "\n",
    "    model_comparison = model_comparison.append(scores)\n",
    "    \n",
    "    print(model_comparison)"
   ]
  },
  {
   "cell_type": "markdown",
   "id": "0f5f20c7",
   "metadata": {},
   "source": [
    "# Verify Class Balance"
   ]
  },
  {
   "cell_type": "code",
   "execution_count": 18,
   "id": "f5eba9b7",
   "metadata": {},
   "outputs": [
    {
     "data": {
      "text/plain": [
       "1.0    23925\n",
       "0.0    19831\n",
       "Name: satisfaction, dtype: int64"
      ]
     },
     "execution_count": 18,
     "metadata": {},
     "output_type": "execute_result"
    }
   ],
   "source": [
    "data['satisfaction'].value_counts()"
   ]
  },
  {
   "cell_type": "code",
   "execution_count": 19,
   "id": "e7cedad2",
   "metadata": {},
   "outputs": [
    {
     "data": {
      "image/png": "[encoded data removed]",
      "text/plain": [
       "<Figure size 576x396 with 1 Axes>"
      ]
     },
     "metadata": {},
     "output_type": "display_data"
    },
    {
     "data": {
      "text/plain": [
       "<AxesSubplot:title={'center':'Class Balance for 39,380 Instances'}, ylabel='support'>"
      ]
     },
     "execution_count": 19,
     "metadata": {},
     "output_type": "execute_result"
    }
   ],
   "source": [
    "from yellowbrick.target import ClassBalance\n",
    "\n",
    "# Instantiate the visualizer\n",
    "visualizer = ClassBalance(labels=[\"0\", \"1\"])\n",
    "\n",
    "visualizer.fit(y_train, y_val)        # Fit the data to the visualizer\n",
    "visualizer.show()        # Finalize and render the figure"
   ]
  },
  {
   "cell_type": "markdown",
   "id": "7d078923",
   "metadata": {},
   "source": [
    "# Modelling\n",
    "\n",
    "Baseline Model - DummyClassifier ✔\n",
    "\n",
    "==========================\n",
    "\n",
    "Feature Selection \n",
    "- LASSO (prefered)\n",
    "- RFE\n",
    "\n",
    "==========================\n",
    "\n",
    "- Logistics Regression\n",
    "- KNN\n",
    "- Gaussian (Naive Bayees)\n",
    "\n",
    "- Decision Tree\n",
    "- Random Forest\n",
    "\n",
    "- LightGBM\n",
    "- XGBoost\n",
    "- AdsBoost\n"
   ]
  },
  {
   "cell_type": "markdown",
   "id": "1600a364",
   "metadata": {},
   "source": [
    "## Baseline Model - DummyClassifier"
   ]
  },
  {
   "cell_type": "code",
   "execution_count": 20,
   "id": "9a329186",
   "metadata": {},
   "outputs": [
    {
     "data": {
      "text/plain": [
       "DummyClassifier()"
      ]
     },
     "execution_count": 20,
     "metadata": {},
     "output_type": "execute_result"
    }
   ],
   "source": [
    "from sklearn.dummy import DummyClassifier\n",
    "\n",
    "dummy = DummyClassifier()\n",
    "dummy.fit(X_train,y_train)"
   ]
  },
  {
   "cell_type": "code",
   "execution_count": 21,
   "id": "2d51f0a1",
   "metadata": {},
   "outputs": [
    {
     "name": "stdout",
     "output_type": "stream",
     "text": [
      "Validation Result:\n",
      "\n",
      "accuracy score: 0.5359\n",
      "\n"
     ]
    },
    {
     "data": {
      "image/png": "[encoded data removed]",
      "text/plain": [
       "<Figure size 576x396 with 1 Axes>"
      ]
     },
     "metadata": {},
     "output_type": "display_data"
    },
    {
     "name": "stdout",
     "output_type": "stream",
     "text": [
      "roc auc score: 0.5\n",
      "\n"
     ]
    },
    {
     "data": {
      "image/png": "[encoded data removed]",
      "text/plain": [
       "<Figure size 576x396 with 1 Axes>"
      ]
     },
     "metadata": {},
     "output_type": "display_data"
    },
    {
     "name": "stdout",
     "output_type": "stream",
     "text": [
      "Classification Report: \n",
      "               precision    recall  f1-score   support\n",
      "\n",
      "         0.0       0.00      0.00      0.00      2031\n",
      "         1.0       0.54      1.00      0.70      2345\n",
      "\n",
      "    accuracy                           0.54      4376\n",
      "   macro avg       0.27      0.50      0.35      4376\n",
      "weighted avg       0.29      0.54      0.37      4376\n",
      "\n",
      "\n",
      "Confusion Matrix: \n",
      " [[   0 2031]\n",
      " [   0 2345]]\n",
      "\n",
      "End of validation Result\n",
      "\n"
     ]
    },
    {
     "data": {
      "image/png": "[encoded data removed]",
      "text/plain": [
       "<Figure size 576x396 with 2 Axes>"
      ]
     },
     "metadata": {},
     "output_type": "display_data"
    }
   ],
   "source": [
    "clf_score(dummy, X_train, y_train, X_val, y_val, train=False)"
   ]
  },
  {
   "cell_type": "code",
   "execution_count": 22,
   "id": "7f8ca5ae",
   "metadata": {},
   "outputs": [
    {
     "name": "stdout",
     "output_type": "stream",
     "text": [
      "                precision recall  f1-score support\n",
      "DummyClassifier  0.535878    1.0  0.697813    2345\n"
     ]
    }
   ],
   "source": [
    "# Add result to model_comparison dataframe\n",
    "model_name = 'DummyClassifier'\n",
    "y_pred = dummy.predict(X_val)\n",
    "\n",
    "add_result(model_name, y_val, y_pred)"
   ]
  },
  {
   "cell_type": "markdown",
   "id": "2c5c453a",
   "metadata": {},
   "source": [
    "## Feature Selection"
   ]
  },
  {
   "cell_type": "markdown",
   "id": "a2fed97f",
   "metadata": {},
   "source": [
    "### 1. LASSO"
   ]
  },
  {
   "cell_type": "code",
   "execution_count": 23,
   "id": "90a1360b",
   "metadata": {},
   "outputs": [],
   "source": [
    "lasso = Lasso(alpha=0.01)\n",
    "model_lasso = lasso.fit(X_train, y_train)"
   ]
  },
  {
   "cell_type": "code",
   "execution_count": 24,
   "id": "2198bc55",
   "metadata": {},
   "outputs": [
    {
     "data": {
      "text/plain": [
       "array([ 0.00044513, -0.13973791,  0.01361016,  0.        , -0.00894538,\n",
       "        0.        ,  0.00582552, -0.        ,  0.09717539,  0.03391091,\n",
       "        0.0275149 ,  0.04385917,  0.03912013,  0.02210841,  0.03506695,\n",
       "        0.01830838,  0.02908356, -0.00350892,  0.        ,  0.08976133,\n",
       "        0.20718092])"
      ]
     },
     "execution_count": 24,
     "metadata": {},
     "output_type": "execute_result"
    }
   ],
   "source": [
    "model_lasso.coef_"
   ]
  },
  {
   "cell_type": "code",
   "execution_count": 25,
   "id": "4822a29e",
   "metadata": {},
   "outputs": [
    {
     "data": {
      "text/html": [
       "<div>\n",
       "<style scoped>\n",
       "    .dataframe tbody tr th:only-of-type {\n",
       "        vertical-align: middle;\n",
       "    }\n",
       "\n",
       "    .dataframe tbody tr th {\n",
       "        vertical-align: top;\n",
       "    }\n",
       "\n",
       "    .dataframe thead th {\n",
       "        text-align: right;\n",
       "    }\n",
       "</style>\n",
       "<table border=\"1\" class=\"dataframe\">\n",
       "  <thead>\n",
       "    <tr style=\"text-align: right;\">\n",
       "      <th></th>\n",
       "      <th>predictor</th>\n",
       "      <th>coefficient</th>\n",
       "    </tr>\n",
       "  </thead>\n",
       "  <tbody>\n",
       "    <tr>\n",
       "      <th>18</th>\n",
       "      <td>Gender_Male</td>\n",
       "      <td>0.000000</td>\n",
       "    </tr>\n",
       "    <tr>\n",
       "      <th>3</th>\n",
       "      <td>Inflight_wifi_service</td>\n",
       "      <td>0.000000</td>\n",
       "    </tr>\n",
       "    <tr>\n",
       "      <th>5</th>\n",
       "      <td>Ease_of_Online_booking</td>\n",
       "      <td>0.000000</td>\n",
       "    </tr>\n",
       "    <tr>\n",
       "      <th>7</th>\n",
       "      <td>Food_and_drink</td>\n",
       "      <td>0.000000</td>\n",
       "    </tr>\n",
       "    <tr>\n",
       "      <th>0</th>\n",
       "      <td>Age</td>\n",
       "      <td>0.000445</td>\n",
       "    </tr>\n",
       "    <tr>\n",
       "      <th>17</th>\n",
       "      <td>Departure_Delay_in_Minutes</td>\n",
       "      <td>0.003509</td>\n",
       "    </tr>\n",
       "    <tr>\n",
       "      <th>6</th>\n",
       "      <td>Gate_location</td>\n",
       "      <td>0.005826</td>\n",
       "    </tr>\n",
       "    <tr>\n",
       "      <th>4</th>\n",
       "      <td>Departure/Arrival_time_convenient</td>\n",
       "      <td>0.008945</td>\n",
       "    </tr>\n",
       "    <tr>\n",
       "      <th>2</th>\n",
       "      <td>Flight_Distance</td>\n",
       "      <td>0.013610</td>\n",
       "    </tr>\n",
       "    <tr>\n",
       "      <th>15</th>\n",
       "      <td>Inflight_service</td>\n",
       "      <td>0.018308</td>\n",
       "    </tr>\n",
       "    <tr>\n",
       "      <th>13</th>\n",
       "      <td>Baggage_handling</td>\n",
       "      <td>0.022108</td>\n",
       "    </tr>\n",
       "    <tr>\n",
       "      <th>10</th>\n",
       "      <td>Inflight_entertainment</td>\n",
       "      <td>0.027515</td>\n",
       "    </tr>\n",
       "    <tr>\n",
       "      <th>16</th>\n",
       "      <td>Cleanliness</td>\n",
       "      <td>0.029084</td>\n",
       "    </tr>\n",
       "    <tr>\n",
       "      <th>9</th>\n",
       "      <td>Seat_comfort</td>\n",
       "      <td>0.033911</td>\n",
       "    </tr>\n",
       "    <tr>\n",
       "      <th>14</th>\n",
       "      <td>Checkin_service</td>\n",
       "      <td>0.035067</td>\n",
       "    </tr>\n",
       "    <tr>\n",
       "      <th>12</th>\n",
       "      <td>Leg_room_service</td>\n",
       "      <td>0.039120</td>\n",
       "    </tr>\n",
       "    <tr>\n",
       "      <th>11</th>\n",
       "      <td>On-board_service</td>\n",
       "      <td>0.043859</td>\n",
       "    </tr>\n",
       "    <tr>\n",
       "      <th>19</th>\n",
       "      <td>Customer_Type_Loyal Customer</td>\n",
       "      <td>0.089761</td>\n",
       "    </tr>\n",
       "    <tr>\n",
       "      <th>8</th>\n",
       "      <td>Online_boarding</td>\n",
       "      <td>0.097175</td>\n",
       "    </tr>\n",
       "    <tr>\n",
       "      <th>1</th>\n",
       "      <td>Class</td>\n",
       "      <td>0.139738</td>\n",
       "    </tr>\n",
       "    <tr>\n",
       "      <th>20</th>\n",
       "      <td>Type_of_Travel_Business travel</td>\n",
       "      <td>0.207181</td>\n",
       "    </tr>\n",
       "  </tbody>\n",
       "</table>\n",
       "</div>"
      ],
      "text/plain": [
       "                            predictor  coefficient\n",
       "18                        Gender_Male     0.000000\n",
       "3               Inflight_wifi_service     0.000000\n",
       "5              Ease_of_Online_booking     0.000000\n",
       "7                      Food_and_drink     0.000000\n",
       "0                                 Age     0.000445\n",
       "17         Departure_Delay_in_Minutes     0.003509\n",
       "6                       Gate_location     0.005826\n",
       "4   Departure/Arrival_time_convenient     0.008945\n",
       "2                     Flight_Distance     0.013610\n",
       "15                   Inflight_service     0.018308\n",
       "13                   Baggage_handling     0.022108\n",
       "10             Inflight_entertainment     0.027515\n",
       "16                        Cleanliness     0.029084\n",
       "9                        Seat_comfort     0.033911\n",
       "14                    Checkin_service     0.035067\n",
       "12                   Leg_room_service     0.039120\n",
       "11                   On-board_service     0.043859\n",
       "19       Customer_Type_Loyal Customer     0.089761\n",
       "8                     Online_boarding     0.097175\n",
       "1                               Class     0.139738\n",
       "20     Type_of_Travel_Business travel     0.207181"
      ]
     },
     "execution_count": 25,
     "metadata": {},
     "output_type": "execute_result"
    }
   ],
   "source": [
    "pd.DataFrame(list(zip(X_train.columns,abs(model_lasso.coef_))), columns = ['predictor','coefficient']).sort_values(by='coefficient')"
   ]
  },
  {
   "cell_type": "markdown",
   "id": "54fd84a8",
   "metadata": {},
   "source": [
    "### 2. RFE"
   ]
  },
  {
   "cell_type": "code",
   "execution_count": 26,
   "id": "418e052b",
   "metadata": {},
   "outputs": [],
   "source": [
    "from sklearn.feature_selection import RFE\n",
    "\n",
    "lr = LogisticRegression(max_iter=5000)\n",
    "rfe = RFE(lr, n_features_to_select=3) \n",
    "model_rfe = rfe.fit(X_train,y_train)"
   ]
  },
  {
   "cell_type": "code",
   "execution_count": 27,
   "id": "24f47972",
   "metadata": {},
   "outputs": [
    {
     "data": {
      "text/plain": [
       "array([False, False, False, False, False, False, False, False, False,\n",
       "       False,  True, False, False, False, False, False, False, False,\n",
       "       False,  True,  True])"
      ]
     },
     "execution_count": 27,
     "metadata": {},
     "output_type": "execute_result"
    }
   ],
   "source": [
    "model_rfe.support_"
   ]
  },
  {
   "cell_type": "code",
   "execution_count": 28,
   "id": "2a2aa304",
   "metadata": {},
   "outputs": [
    {
     "data": {
      "text/html": [
       "<div>\n",
       "<style scoped>\n",
       "    .dataframe tbody tr th:only-of-type {\n",
       "        vertical-align: middle;\n",
       "    }\n",
       "\n",
       "    .dataframe tbody tr th {\n",
       "        vertical-align: top;\n",
       "    }\n",
       "\n",
       "    .dataframe thead th {\n",
       "        text-align: right;\n",
       "    }\n",
       "</style>\n",
       "<table border=\"1\" class=\"dataframe\">\n",
       "  <thead>\n",
       "    <tr style=\"text-align: right;\">\n",
       "      <th></th>\n",
       "      <th>predictor</th>\n",
       "      <th>ranking</th>\n",
       "    </tr>\n",
       "  </thead>\n",
       "  <tbody>\n",
       "    <tr>\n",
       "      <th>10</th>\n",
       "      <td>Inflight_entertainment</td>\n",
       "      <td>1</td>\n",
       "    </tr>\n",
       "    <tr>\n",
       "      <th>19</th>\n",
       "      <td>Customer_Type_Loyal Customer</td>\n",
       "      <td>1</td>\n",
       "    </tr>\n",
       "    <tr>\n",
       "      <th>20</th>\n",
       "      <td>Type_of_Travel_Business travel</td>\n",
       "      <td>1</td>\n",
       "    </tr>\n",
       "    <tr>\n",
       "      <th>8</th>\n",
       "      <td>Online_boarding</td>\n",
       "      <td>2</td>\n",
       "    </tr>\n",
       "    <tr>\n",
       "      <th>1</th>\n",
       "      <td>Class</td>\n",
       "      <td>3</td>\n",
       "    </tr>\n",
       "    <tr>\n",
       "      <th>13</th>\n",
       "      <td>Baggage_handling</td>\n",
       "      <td>4</td>\n",
       "    </tr>\n",
       "    <tr>\n",
       "      <th>14</th>\n",
       "      <td>Checkin_service</td>\n",
       "      <td>5</td>\n",
       "    </tr>\n",
       "    <tr>\n",
       "      <th>11</th>\n",
       "      <td>On-board_service</td>\n",
       "      <td>6</td>\n",
       "    </tr>\n",
       "    <tr>\n",
       "      <th>16</th>\n",
       "      <td>Cleanliness</td>\n",
       "      <td>7</td>\n",
       "    </tr>\n",
       "    <tr>\n",
       "      <th>9</th>\n",
       "      <td>Seat_comfort</td>\n",
       "      <td>8</td>\n",
       "    </tr>\n",
       "    <tr>\n",
       "      <th>15</th>\n",
       "      <td>Inflight_service</td>\n",
       "      <td>9</td>\n",
       "    </tr>\n",
       "    <tr>\n",
       "      <th>12</th>\n",
       "      <td>Leg_room_service</td>\n",
       "      <td>10</td>\n",
       "    </tr>\n",
       "    <tr>\n",
       "      <th>17</th>\n",
       "      <td>Departure_Delay_in_Minutes</td>\n",
       "      <td>11</td>\n",
       "    </tr>\n",
       "    <tr>\n",
       "      <th>3</th>\n",
       "      <td>Inflight_wifi_service</td>\n",
       "      <td>12</td>\n",
       "    </tr>\n",
       "    <tr>\n",
       "      <th>5</th>\n",
       "      <td>Ease_of_Online_booking</td>\n",
       "      <td>13</td>\n",
       "    </tr>\n",
       "    <tr>\n",
       "      <th>4</th>\n",
       "      <td>Departure/Arrival_time_convenient</td>\n",
       "      <td>14</td>\n",
       "    </tr>\n",
       "    <tr>\n",
       "      <th>2</th>\n",
       "      <td>Flight_Distance</td>\n",
       "      <td>15</td>\n",
       "    </tr>\n",
       "    <tr>\n",
       "      <th>7</th>\n",
       "      <td>Food_and_drink</td>\n",
       "      <td>16</td>\n",
       "    </tr>\n",
       "    <tr>\n",
       "      <th>0</th>\n",
       "      <td>Age</td>\n",
       "      <td>17</td>\n",
       "    </tr>\n",
       "    <tr>\n",
       "      <th>6</th>\n",
       "      <td>Gate_location</td>\n",
       "      <td>18</td>\n",
       "    </tr>\n",
       "    <tr>\n",
       "      <th>18</th>\n",
       "      <td>Gender_Male</td>\n",
       "      <td>19</td>\n",
       "    </tr>\n",
       "  </tbody>\n",
       "</table>\n",
       "</div>"
      ],
      "text/plain": [
       "                            predictor  ranking\n",
       "10             Inflight_entertainment        1\n",
       "19       Customer_Type_Loyal Customer        1\n",
       "20     Type_of_Travel_Business travel        1\n",
       "8                     Online_boarding        2\n",
       "1                               Class        3\n",
       "13                   Baggage_handling        4\n",
       "14                    Checkin_service        5\n",
       "11                   On-board_service        6\n",
       "16                        Cleanliness        7\n",
       "9                        Seat_comfort        8\n",
       "15                   Inflight_service        9\n",
       "12                   Leg_room_service       10\n",
       "17         Departure_Delay_in_Minutes       11\n",
       "3               Inflight_wifi_service       12\n",
       "5              Ease_of_Online_booking       13\n",
       "4   Departure/Arrival_time_convenient       14\n",
       "2                     Flight_Distance       15\n",
       "7                      Food_and_drink       16\n",
       "0                                 Age       17\n",
       "6                       Gate_location       18\n",
       "18                        Gender_Male       19"
      ]
     },
     "execution_count": 28,
     "metadata": {},
     "output_type": "execute_result"
    }
   ],
   "source": [
    "pd.DataFrame(list(zip(X_train.columns,model_rfe.ranking_)), \n",
    "             columns = ['predictor','ranking']).sort_values(by='ranking')"
   ]
  },
  {
   "cell_type": "markdown",
   "id": "b46355d6",
   "metadata": {},
   "source": [
    "Based on the above results, we can drop 'Gender_Male','Gate_location','Age', 'Food_and_drink'. "
   ]
  },
  {
   "cell_type": "code",
   "execution_count": 29,
   "id": "aba1aac3",
   "metadata": {},
   "outputs": [],
   "source": [
    "X_train = X_train.drop(columns=['Gender_Male', 'Gate_location', 'Food_and_drink', 'Age'])\n",
    "X_val = X_val.drop(columns=['Gender_Male', 'Gate_location', 'Food_and_drink', 'Age'])"
   ]
  },
  {
   "cell_type": "markdown",
   "id": "48a01142",
   "metadata": {},
   "source": [
    "## LightGBM"
   ]
  },
  {
   "cell_type": "markdown",
   "id": "a9a470a9",
   "metadata": {},
   "source": [
    "### Model Tuning"
   ]
  },
  {
   "cell_type": "code",
   "execution_count": 30,
   "id": "0d2e83da",
   "metadata": {},
   "outputs": [
    {
     "data": {
      "text/plain": [
       "GridSearchCV(cv=KFold(n_splits=5, random_state=42, shuffle=True),\n",
       "             estimator=LGBMClassifier(),\n",
       "             param_grid={'learning_rate': [0.001, 0.01, 0.1],\n",
       "                         'max_depth': [3, 5, 7],\n",
       "                         'n_estimators': [100, 500, 1000],\n",
       "                         'num_leaves': [10, 30, 50]},\n",
       "             scoring=make_scorer(fbeta_score, beta=2))"
      ]
     },
     "execution_count": 30,
     "metadata": {},
     "output_type": "execute_result"
    }
   ],
   "source": [
    "LGB = lgb.LGBMClassifier()\n",
    "kfold = KFold(n_splits=5, shuffle=True, random_state=42)\n",
    "params = {\n",
    "    'n_estimators': [100, 500, 1000],\n",
    "    'learning_rate': [0.001, 0.01, 0.1],\n",
    "    'num_leaves': [10, 30, 50],\n",
    "    'max_depth': [3, 5, 7]\n",
    "}\n",
    "\n",
    "scoring = make_scorer(fbeta_score, beta=2)\n",
    "grid_search_lgb = GridSearchCV(estimator=LGB, param_grid=params, scoring=scoring, cv=kfold)\n",
    "grid_search_lgb.fit(X_train, y_train)"
   ]
  },
  {
   "cell_type": "code",
   "execution_count": 31,
   "id": "5de01d99",
   "metadata": {},
   "outputs": [
    {
     "name": "stdout",
     "output_type": "stream",
     "text": [
      "0.9757939658569332\n"
     ]
    }
   ],
   "source": [
    "# Print out the tunning result\n",
    "print(grid_search_lgb.best_score_)"
   ]
  },
  {
   "cell_type": "code",
   "execution_count": 32,
   "id": "a8496252",
   "metadata": {},
   "outputs": [
    {
     "name": "stdout",
     "output_type": "stream",
     "text": [
      "{'learning_rate': 0.1, 'max_depth': 7, 'n_estimators': 500, 'num_leaves': 50}\n"
     ]
    }
   ],
   "source": [
    "# Print out the tunning parameters\n",
    "print(grid_search_lgb.best_params_)"
   ]
  },
  {
   "cell_type": "markdown",
   "id": "115b5ea1",
   "metadata": {},
   "source": [
    "### Build Model"
   ]
  },
  {
   "cell_type": "code",
   "execution_count": 33,
   "id": "39b9fb4c",
   "metadata": {},
   "outputs": [],
   "source": [
    "lgbm_clf = LGBMClassifier(n_estimators=50,\n",
    "                          n_jobs=1,\n",
    "                          learning_rate=0.02,\n",
    "                          num_leaves=50,\n",
    "                          max_depth=7,\n",
    "                          verbose=-1,\n",
    "                          random_state=42)\n",
    "model_lgbm= lgbm_clf.fit(X_train, y_train)\n",
    "model_name = 'LightGBM'\n",
    "y_pred = model_lgbm.predict(X_val)"
   ]
  },
  {
   "cell_type": "markdown",
   "id": "11ba532a",
   "metadata": {},
   "source": [
    "### Learning Curve (check overfitting)"
   ]
  },
  {
   "cell_type": "code",
   "execution_count": 34,
   "id": "eab2aea2",
   "metadata": {},
   "outputs": [],
   "source": [
    "X_train_small = X_train.iloc[:200,]\n",
    "y_train_small = y_train.iloc[:200]"
   ]
  },
  {
   "cell_type": "code",
   "execution_count": 35,
   "id": "48fe5c83",
   "metadata": {},
   "outputs": [
    {
     "data": {
      "image/png": "[encoded data removed]",
      "text/plain": [
       "<Figure size 576x396 with 1 Axes>"
      ]
     },
     "metadata": {},
     "output_type": "display_data"
    },
    {
     "data": {
      "text/plain": [
       "<AxesSubplot:title={'center':'Learning Curve for LGBMClassifier'}, xlabel='Training Instances', ylabel='Score'>"
      ]
     },
     "execution_count": 35,
     "metadata": {},
     "output_type": "execute_result"
    }
   ],
   "source": [
    "# Create the learning curve visualizer\n",
    "cv = StratifiedKFold(n_splits=12)\n",
    "sizes = np.linspace(0.3, 1.0, 10)\n",
    "\n",
    "# Instantiate the classification model and visualizer\n",
    "\n",
    "visualizer = LearningCurve(\n",
    "    model_lgbm, \n",
    "    cv=cv, \n",
    "    scoring='f1_weighted', \n",
    "    train_sizes=sizes, \n",
    "    n_jobs=8\n",
    ")\n",
    "\n",
    "visualizer.fit(X_train_small, y_train_small)        # Fit the data to the visualizer\n",
    "visualizer.poof() "
   ]
  },
  {
   "cell_type": "markdown",
   "id": "577adee1",
   "metadata": {},
   "source": [
    "`Not overfitted now because we have already adjusted the parameters to reduce overfitting.`"
   ]
  },
  {
   "cell_type": "markdown",
   "id": "f637b9a9",
   "metadata": {},
   "source": [
    "### Performance"
   ]
  },
  {
   "cell_type": "code",
   "execution_count": 36,
   "id": "f24cfbfb",
   "metadata": {},
   "outputs": [
    {
     "name": "stdout",
     "output_type": "stream",
     "text": [
      "Validation Result:\n",
      "\n",
      "accuracy score: 0.9593\n",
      "\n"
     ]
    },
    {
     "data": {
      "image/png": "[encoded data removed]",
      "text/plain": [
       "<Figure size 576x396 with 1 Axes>"
      ]
     },
     "metadata": {},
     "output_type": "display_data"
    },
    {
     "name": "stdout",
     "output_type": "stream",
     "text": [
      "roc auc score: 0.9575966968281614\n",
      "\n"
     ]
    },
    {
     "data": {
      "image/png": "[encoded data removed]",
      "text/plain": [
       "<Figure size 576x396 with 1 Axes>"
      ]
     },
     "metadata": {},
     "output_type": "display_data"
    },
    {
     "name": "stdout",
     "output_type": "stream",
     "text": [
      "Classification Report: \n",
      "               precision    recall  f1-score   support\n",
      "\n",
      "         0.0       0.98      0.93      0.96      2031\n",
      "         1.0       0.94      0.98      0.96      2345\n",
      "\n",
      "    accuracy                           0.96      4376\n",
      "   macro avg       0.96      0.96      0.96      4376\n",
      "weighted avg       0.96      0.96      0.96      4376\n",
      "\n",
      "\n",
      "Confusion Matrix: \n",
      " [[1896  135]\n",
      " [  43 2302]]\n",
      "\n",
      "End of validation Result\n",
      "\n"
     ]
    },
    {
     "data": {
      "image/png": "[encoded data removed]",
      "text/plain": [
       "<Figure size 576x396 with 2 Axes>"
      ]
     },
     "metadata": {},
     "output_type": "display_data"
    }
   ],
   "source": [
    "clf_score(model_lgbm, X_train, y_train, X_val, y_val, train=False)"
   ]
  },
  {
   "cell_type": "code",
   "execution_count": 37,
   "id": "3329a38b",
   "metadata": {},
   "outputs": [
    {
     "name": "stdout",
     "output_type": "stream",
     "text": [
      "                precision    recall  f1-score support\n",
      "DummyClassifier  0.535878       1.0  0.697813    2345\n",
      "LightGBM         0.944604  0.981663  0.962777    2345\n"
     ]
    }
   ],
   "source": [
    "# Add result to model_comparison dataframe\n",
    "add_result(model_name, y_val, y_pred)"
   ]
  },
  {
   "cell_type": "code",
   "execution_count": 38,
   "id": "c18b5667",
   "metadata": {},
   "outputs": [],
   "source": [
    "model_comparison.to_csv('model_comparison.csv')"
   ]
  },
  {
   "cell_type": "markdown",
   "id": "c08285e1",
   "metadata": {},
   "source": [
    "### Feature Importance"
   ]
  },
  {
   "cell_type": "code",
   "execution_count": 39,
   "id": "fb805dcb",
   "metadata": {},
   "outputs": [
    {
     "data": {
      "text/html": [
       "<div>\n",
       "<style scoped>\n",
       "    .dataframe tbody tr th:only-of-type {\n",
       "        vertical-align: middle;\n",
       "    }\n",
       "\n",
       "    .dataframe tbody tr th {\n",
       "        vertical-align: top;\n",
       "    }\n",
       "\n",
       "    .dataframe thead th {\n",
       "        text-align: right;\n",
       "    }\n",
       "</style>\n",
       "<table border=\"1\" class=\"dataframe\">\n",
       "  <thead>\n",
       "    <tr style=\"text-align: right;\">\n",
       "      <th></th>\n",
       "      <th>importance</th>\n",
       "      <th>feature</th>\n",
       "    </tr>\n",
       "  </thead>\n",
       "  <tbody>\n",
       "    <tr>\n",
       "      <th>2</th>\n",
       "      <td>297</td>\n",
       "      <td>Inflight_wifi_service</td>\n",
       "    </tr>\n",
       "    <tr>\n",
       "      <th>15</th>\n",
       "      <td>231</td>\n",
       "      <td>Customer_Type_Loyal Customer</td>\n",
       "    </tr>\n",
       "    <tr>\n",
       "      <th>11</th>\n",
       "      <td>228</td>\n",
       "      <td>Checkin_service</td>\n",
       "    </tr>\n",
       "    <tr>\n",
       "      <th>6</th>\n",
       "      <td>218</td>\n",
       "      <td>Seat_comfort</td>\n",
       "    </tr>\n",
       "    <tr>\n",
       "      <th>12</th>\n",
       "      <td>184</td>\n",
       "      <td>Inflight_service</td>\n",
       "    </tr>\n",
       "    <tr>\n",
       "      <th>10</th>\n",
       "      <td>179</td>\n",
       "      <td>Baggage_handling</td>\n",
       "    </tr>\n",
       "    <tr>\n",
       "      <th>5</th>\n",
       "      <td>163</td>\n",
       "      <td>Online_boarding</td>\n",
       "    </tr>\n",
       "    <tr>\n",
       "      <th>16</th>\n",
       "      <td>159</td>\n",
       "      <td>Type_of_Travel_Business travel</td>\n",
       "    </tr>\n",
       "    <tr>\n",
       "      <th>7</th>\n",
       "      <td>141</td>\n",
       "      <td>Inflight_entertainment</td>\n",
       "    </tr>\n",
       "    <tr>\n",
       "      <th>9</th>\n",
       "      <td>117</td>\n",
       "      <td>Leg_room_service</td>\n",
       "    </tr>\n",
       "    <tr>\n",
       "      <th>1</th>\n",
       "      <td>93</td>\n",
       "      <td>Flight_Distance</td>\n",
       "    </tr>\n",
       "    <tr>\n",
       "      <th>8</th>\n",
       "      <td>89</td>\n",
       "      <td>On-board_service</td>\n",
       "    </tr>\n",
       "    <tr>\n",
       "      <th>13</th>\n",
       "      <td>87</td>\n",
       "      <td>Cleanliness</td>\n",
       "    </tr>\n",
       "    <tr>\n",
       "      <th>3</th>\n",
       "      <td>83</td>\n",
       "      <td>Departure/Arrival_time_convenient</td>\n",
       "    </tr>\n",
       "    <tr>\n",
       "      <th>14</th>\n",
       "      <td>66</td>\n",
       "      <td>Departure_Delay_in_Minutes</td>\n",
       "    </tr>\n",
       "    <tr>\n",
       "      <th>4</th>\n",
       "      <td>65</td>\n",
       "      <td>Ease_of_Online_booking</td>\n",
       "    </tr>\n",
       "    <tr>\n",
       "      <th>0</th>\n",
       "      <td>50</td>\n",
       "      <td>Class</td>\n",
       "    </tr>\n",
       "  </tbody>\n",
       "</table>\n",
       "</div>"
      ],
      "text/plain": [
       "    importance                            feature\n",
       "2          297              Inflight_wifi_service\n",
       "15         231       Customer_Type_Loyal Customer\n",
       "11         228                    Checkin_service\n",
       "6          218                       Seat_comfort\n",
       "12         184                   Inflight_service\n",
       "10         179                   Baggage_handling\n",
       "5          163                    Online_boarding\n",
       "16         159     Type_of_Travel_Business travel\n",
       "7          141             Inflight_entertainment\n",
       "9          117                   Leg_room_service\n",
       "1           93                    Flight_Distance\n",
       "8           89                   On-board_service\n",
       "13          87                        Cleanliness\n",
       "3           83  Departure/Arrival_time_convenient\n",
       "14          66         Departure_Delay_in_Minutes\n",
       "4           65             Ease_of_Online_booking\n",
       "0           50                              Class"
      ]
     },
     "execution_count": 39,
     "metadata": {},
     "output_type": "execute_result"
    }
   ],
   "source": [
    "df_feature_importance = pd.DataFrame({'importance':model_lgbm.feature_importances_, 'feature': X_train.columns.values})\n",
    "df_feature_importance.sort_values(by = 'importance', ascending=False)"
   ]
  },
  {
   "cell_type": "code",
   "execution_count": 40,
   "id": "263a8c77",
   "metadata": {},
   "outputs": [
    {
     "data": {
      "image/png": "[encoded data removed]",
      "text/plain": [
       "<Figure size 576x396 with 1 Axes>"
      ]
     },
     "metadata": {},
     "output_type": "display_data"
    }
   ],
   "source": [
    "lgb.plot_importance(model_lgbm)\n",
    "plt.rcParams['figure.figsize'] = [22, 6]\n",
    "plt.show()"
   ]
  }
 ],
 "metadata": {
  "kernelspec": {
   "display_name": "Python 3 (ipykernel)",
   "language": "python",
   "name": "python3"
  },
  "language_info": {
   "codemirror_mode": {
    "name": "ipython",
    "version": 3
   },
   "file_extension": ".py",
   "mimetype": "text/x-python",
   "name": "python",
   "nbconvert_exporter": "python",
   "pygments_lexer": "ipython3",
   "version": "3.9.12"
  },
  "vscode": {
   "interpreter": {
    "hash": "eb8d3085d426e5e8dee3252ffbadecffc2a8c816985f9d79249a1de42c265c0a"
   }
  }
 },
 "nbformat": 4,
 "nbformat_minor": 5
}
